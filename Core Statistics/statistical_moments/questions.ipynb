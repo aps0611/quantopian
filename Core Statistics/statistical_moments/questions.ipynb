{
  "cells": [
    {
      "cell_type": "markdown",
      "metadata": {
        "deletable": true,
        "editable": true,
        "id": "3vR3O9uuvLO4"
      },
      "source": [
        "#Exercises: Statistical Moments and Normality Testing\n",
        "\n",
        "## Lecture Link :\n",
        "https://www.quantopian.com/lectures/statistical-moments\n",
        "\n",
        "###IMPORTANT NOTE:\n",
        "This lecture corresponds to the Statistical Moments and Normality Testing lecture, which is part of the Quantopian lecture series. This homework expects you to rely heavily on the code presented in the corresponding lecture. Please copy and paste regularly from that lecture when starting to work on the problems, as trying to do them from scratch will likely be too difficult.\n",
        "\n",
        "Part of the Quantopian Lecture Series:\n",
        "\n",
        "* [www.quantopian.com/lectures](https://www.quantopian.com/lectures)\n",
        "* [github.com/quantopian/research_public](https://github.com/quantopian/research_public)\n",
        "\n",
        "----"
      ]
    },
    {
      "cell_type": "code",
      "execution_count": null,
      "metadata": {
        "deletable": true,
        "editable": true,
        "id": "I83piOWOvLPB"
      },
      "outputs": [],
      "source": [
        "# Useful Libraries\n",
        "import matplotlib.pyplot as plt\n",
        "import numpy as np\n",
        "import pandas as pd\n",
        "import scipy.stats as stats\n",
        "from statsmodels.stats.stattools import jarque_bera"
      ]
    },
    {
      "cell_type": "markdown",
      "metadata": {
        "deletable": true,
        "editable": true,
        "id": "Sd4r_Sf9vLPG"
      },
      "source": [
        "---"
      ]
    },
    {
      "cell_type": "markdown",
      "metadata": {
        "deletable": true,
        "editable": true,
        "id": "LFBEtVduvLPH"
      },
      "source": [
        "#Exercise 1: Testing for Skew\n",
        "\n",
        "##a. Artificial Example\n",
        "\n",
        "Use the results from the `stats.skew` function to determine the skew of the artificial distribution named X."
      ]
    },
    {
      "cell_type": "code",
      "execution_count": null,
      "metadata": {
        "deletable": true,
        "editable": true,
        "scrolled": false,
        "id": "7-GI9ZUmvLPI"
      },
      "outputs": [],
      "source": [
        "xs2 = np.linspace(stats.gamma.ppf(0.01, 0.7, loc=-1), stats.gamma.ppf(0.99, 0.7, loc=-1), 150) + 1\n",
        "\n",
        "X = stats.gamma.pdf(xs2, 1.5)\n",
        "\n",
        "#Your code goes here"
      ]
    },
    {
      "cell_type": "markdown",
      "metadata": {
        "deletable": true,
        "editable": true,
        "id": "0E3OyM_BvLPK"
      },
      "source": [
        "##b. Real Example\n",
        "\n",
        "Use the results from the `stats.skew` function to determine the skew of the returns of NFLX and use it to make a conclusion about the symmetry of the stock's returns."
      ]
    },
    {
      "cell_type": "code",
      "execution_count": null,
      "metadata": {
        "deletable": true,
        "editable": true,
        "scrolled": false,
        "id": "j6XDdK3VvLPL"
      },
      "outputs": [],
      "source": [
        "start = '2015-01-01'\n",
        "end = '2016-01-01'\n",
        "pricing = get_pricing('NFLX', fields='price', start_date=start, end_date=end)\n",
        "returns = pricing.pct_change()[1:]\n",
        "\n",
        "#Your code goes here"
      ]
    },
    {
      "cell_type": "markdown",
      "metadata": {
        "deletable": true,
        "editable": true,
        "id": "6vl8fBZuvLPM"
      },
      "source": [
        "---"
      ]
    },
    {
      "cell_type": "markdown",
      "metadata": {
        "deletable": true,
        "editable": true,
        "id": "8Ecjr6uGvLPM"
      },
      "source": [
        "#Exercise 2: Testing for Kurtosis\n",
        "\n",
        "##a. Artificial Example\n",
        "\n",
        "Use the results from the `stats.kurtosis` function to determine the excess kurtosis of the artificial distribution named Y."
      ]
    },
    {
      "cell_type": "code",
      "execution_count": null,
      "metadata": {
        "deletable": true,
        "editable": true,
        "id": "hulgGlyivLPN"
      },
      "outputs": [],
      "source": [
        "xs = np.linspace(-6,6, 300) + 2\n",
        "\n",
        "Y = stats.cosine.pdf(xs)\n",
        "\n",
        "#Your code goes here"
      ]
    },
    {
      "cell_type": "markdown",
      "metadata": {
        "deletable": true,
        "editable": true,
        "id": "Zue1dDE1vLPO"
      },
      "source": [
        "##b. Real Example\n",
        "\n",
        "Use the results from the `stats.kurtosis` function to determine the kurtosis of the returns of NFLX and use it to make a conclusion about the volatility of the stock's price."
      ]
    },
    {
      "cell_type": "code",
      "execution_count": null,
      "metadata": {
        "deletable": true,
        "editable": true,
        "id": "q1Q0K5UJvLPP"
      },
      "outputs": [],
      "source": [
        "start = '2015-01-01'\n",
        "end = '2016-01-01'\n",
        "pricing = get_pricing('NFLX', fields='price', start_date=start, end_date=end)\n",
        "returns = pricing.pct_change()[1:]\n",
        "\n",
        "#Your code goes here"
      ]
    },
    {
      "cell_type": "markdown",
      "metadata": {
        "deletable": true,
        "editable": true,
        "id": "fHK0fNgnvLPQ"
      },
      "source": [
        "---"
      ]
    },
    {
      "cell_type": "markdown",
      "metadata": {
        "deletable": true,
        "editable": true,
        "id": "Sol393q4vLPQ"
      },
      "source": [
        "# Exercise 3: Skew and Normality\n",
        "\n",
        "##a. Artificial Example II\n",
        "\n",
        "Use the results from the `stats.skew` function to determine the skew of the artificial distribution named Z."
      ]
    },
    {
      "cell_type": "code",
      "execution_count": null,
      "metadata": {
        "deletable": true,
        "editable": true,
        "id": "-lpBQuXPvLPR"
      },
      "outputs": [],
      "source": [
        "xs2 = np.linspace(stats.lognorm.ppf(0.01, 0.7, loc=-.1), stats.lognorm.ppf(0.99, 0.7, loc=-.1), 150)\n",
        "\n",
        "lognorm = stats.lognorm.pdf(xs2, 0.4)\n",
        "\n",
        "Z = lognorm/2 + lognorm[::-1]\n",
        "\n",
        "#Your code goes here"
      ]
    },
    {
      "cell_type": "markdown",
      "metadata": {
        "deletable": true,
        "editable": true,
        "id": "IBaypReQvLPR"
      },
      "source": [
        "## b. Jarque-Bera Calibration\n",
        "\n",
        "Ensure that the `jarque-bera` function is calibrated by running it on many trials of simulated data and ensuring that the sample probability that the test returns a result under the p-value is equal to the p-value."
      ]
    },
    {
      "cell_type": "code",
      "execution_count": null,
      "metadata": {
        "deletable": true,
        "editable": true,
        "id": "-LcW3GklvLPS"
      },
      "outputs": [],
      "source": [
        "N = 1000\n",
        "M = 1000\n",
        "\n",
        "pvalues = np.ndarray((N))\n",
        "\n",
        "for i in range(N):\n",
        "    # Draw M samples from a normal distribution\n",
        "    X = np.random.normal(0, 1, M);\n",
        "    _, pvalue, _, _ = jarque_bera(X)\n",
        "    pvalues[i] = pvalue\n",
        "\n",
        "num_significant = len(pvalues[pvalues < 0.05])\n",
        "\n",
        "#Your code goes here"
      ]
    },
    {
      "cell_type": "markdown",
      "metadata": {
        "deletable": true,
        "editable": true,
        "id": "hNWghXgXvLPS"
      },
      "source": [
        "## c. Jarque-Bera Test\n",
        "\n",
        "Use the `Jarque-Bera` function to determine the normality of Z."
      ]
    },
    {
      "cell_type": "code",
      "execution_count": null,
      "metadata": {
        "deletable": true,
        "editable": true,
        "id": "TOLd9pyxvLPT"
      },
      "outputs": [],
      "source": [
        "#Your code goes here"
      ]
    },
    {
      "cell_type": "markdown",
      "metadata": {
        "deletable": true,
        "editable": true,
        "id": "o95TGfgIvLPU"
      },
      "source": [
        "## d. Skewness and Normality\n",
        "\n",
        "Plot Z and observe that skewness is not informative unless the underlying distribution is somewhat normal."
      ]
    },
    {
      "cell_type": "code",
      "execution_count": null,
      "metadata": {
        "deletable": true,
        "editable": true,
        "id": "4csYFeUKvLPV"
      },
      "outputs": [],
      "source": [
        "#Your code goes here"
      ]
    },
    {
      "cell_type": "markdown",
      "metadata": {
        "deletable": true,
        "editable": true,
        "id": "O9-nO6BtvLPW"
      },
      "source": [
        "---"
      ]
    },
    {
      "cell_type": "markdown",
      "metadata": {
        "deletable": true,
        "editable": true,
        "id": "sXoRJugHvLPX"
      },
      "source": [
        "# Exercise 4: Out of Sample Test\n",
        "\n",
        "##a. Testing for Normality\n",
        "\n",
        "Plot a histogram of the historical returns of AMC to ensure it is unimodal and vaguely normal before testing it for skewness in part b."
      ]
    },
    {
      "cell_type": "code",
      "execution_count": null,
      "metadata": {
        "deletable": true,
        "editable": true,
        "scrolled": false,
        "id": "swqEVG4mvLPY"
      },
      "outputs": [],
      "source": [
        "start = '2014-01-01'\n",
        "end = '2016-01-01'\n",
        "pricing = get_pricing('AMC', fields='price', start_date=start, end_date=end)\n",
        "returns = pricing.pct_change()[1:]\n",
        "\n",
        "#Your code goes here"
      ]
    },
    {
      "cell_type": "markdown",
      "metadata": {
        "deletable": true,
        "editable": true,
        "id": "wNdvmF8SvLPY"
      },
      "source": [
        "##b. Test for Skew\n",
        "\n",
        "Find the skew of the historical returns of AMC between 2014 to 2016."
      ]
    },
    {
      "cell_type": "code",
      "execution_count": null,
      "metadata": {
        "deletable": true,
        "editable": true,
        "id": "q_VNqlc0vLPZ"
      },
      "outputs": [],
      "source": [
        "start = '2014-01-01'\n",
        "end = '2016-01-01'\n",
        "pricing = get_pricing('AMC', fields='price', start_date=start, end_date=end)\n",
        "returns = pricing.pct_change()[1:]\n",
        "\n",
        "#Your code goes here"
      ]
    },
    {
      "cell_type": "markdown",
      "metadata": {
        "deletable": true,
        "editable": true,
        "id": "gBGPYUWavLPZ"
      },
      "source": [
        "## c. Out of Sample Test\n",
        "\n",
        "Find the skew of the historical retunrs of AMC from the first half of 2016 to determine if the skew from part b holds outside of the original sample."
      ]
    },
    {
      "cell_type": "code",
      "execution_count": null,
      "metadata": {
        "deletable": true,
        "editable": true,
        "id": "VuGIpdNmvLPa"
      },
      "outputs": [],
      "source": [
        "start = '2016-01-01'\n",
        "end = '2016-07-01'\n",
        "out_pricing = get_pricing('AMC', fields='price', start_date=start, end_date=end)\n",
        "out_returns = out_pricing.pct_change()[1:]\n",
        "\n",
        "#Your code goes here"
      ]
    },
    {
      "cell_type": "markdown",
      "metadata": {
        "deletable": true,
        "editable": true,
        "id": "sG4VgMb6vLPb"
      },
      "source": [
        "## d. Rolling Skew\n",
        "\n",
        "Plot the rolling skew of AMC using the `pd.rolling_skew` function."
      ]
    },
    {
      "cell_type": "code",
      "execution_count": null,
      "metadata": {
        "deletable": true,
        "editable": true,
        "id": "zKfsEHx-vLPb"
      },
      "outputs": [],
      "source": [
        "AMC = get_pricing('AMC', fields='price', start_date='2015-01-01', end_date='2017-01-01')\n",
        "\n",
        "#Your code goes here"
      ]
    },
    {
      "cell_type": "markdown",
      "metadata": {
        "deletable": true,
        "editable": true,
        "id": "U99_nuUNvLPc"
      },
      "source": [
        "---\n",
        "\n",
        "Congratulations on completing the Statistical Moments and Normality Testing exercises!\n",
        "\n",
        "As you learn more about writing trading algorithms and the Quantopian platform, be sure to check out the daily [Quantopian Contest](https://www.quantopian.com/contest), in which you can compete for a cash prize every day.\n",
        "\n",
        "Start by going through the [Writing a Contest Algorithm](https://www.quantopian.com/tutorials/contest) tutorial."
      ]
    },
    {
      "cell_type": "markdown",
      "metadata": {
        "deletable": true,
        "editable": true,
        "id": "fyNJw1NavLPc"
      },
      "source": [
        "*This presentation is for informational purposes only and does not constitute an offer to sell, a solicitation to buy, or a recommendation for any security; nor does it constitute an offer to provide investment advisory or other services by Quantopian, Inc. (\"Quantopian\"). Nothing contained herein constitutes investment advice or offers any opinion with respect to the suitability of any security, and any views expressed herein should not be taken as advice to buy, sell, or hold any security or as an endorsement of any security or company.  In preparing the information contained herein, Quantopian, Inc. has not taken into account the investment needs, objectives, and financial circumstances of any particular investor. Any views expressed and data illustrated herein were prepared based upon information, believed to be reliable, available to Quantopian, Inc. at the time of publication. Quantopian makes no guarantees as to their accuracy or completeness. All information is subject to change and may quickly become unreliable for various reasons, including changes in market conditions or economic circumstances.*"
      ]
    }
  ],
  "metadata": {
    "kernelspec": {
      "display_name": "Python 2",
      "language": "python",
      "name": "python2"
    },
    "language_info": {
      "codemirror_mode": {
        "name": "ipython",
        "version": 2
      },
      "file_extension": ".py",
      "mimetype": "text/x-python",
      "name": "python",
      "nbconvert_exporter": "python",
      "pygments_lexer": "ipython2",
      "version": "2.7.12"
    },
    "colab": {
      "provenance": []
    }
  },
  "nbformat": 4,
  "nbformat_minor": 0
}