{
  "cells": [
    {
      "cell_type": "markdown",
      "metadata": {
        "deletable": true,
        "editable": true,
        "id": "znz38SmqRY9K"
      },
      "source": [
        "# Exercises: Variance\n",
        "By Christopher van Hoecke, Maxwell Margenot, and Delaney Mackenzie\n",
        "\n",
        "## Lecture Link :\n",
        "https://www.quantopian.com/lectures/variance\n",
        "\n",
        "### IMPORTANT NOTE:\n",
        "This lecture corresponds to the Variance lecture, which is part of the Quantopian lecture series. This homework expects you to rely heavily on the code presented in the corresponding lecture. Please copy and paste regularly from that lecture when starting to work on the problems, as trying to do them from scratch will likely be too difficult.\n",
        "\n",
        "Part of the Quantopian Lecture Series:\n",
        "\n",
        "* [www.quantopian.com/lectures](https://www.quantopian.com/lectures)\n",
        "* [github.com/quantopian/research_public](https://github.com/quantopian/research_public)\n",
        "\n",
        "-----"
      ]
    },
    {
      "cell_type": "code",
      "execution_count": 1,
      "metadata": {
        "collapsed": true,
        "deletable": true,
        "editable": true,
        "id": "e5PLwjBXRY9W"
      },
      "outputs": [],
      "source": [
        "# Useful Libraries\n",
        "import pandas as pd\n",
        "import numpy as np\n",
        "import matplotlib.pyplot as plt"
      ]
    },
    {
      "cell_type": "markdown",
      "metadata": {
        "deletable": true,
        "editable": true,
        "id": "8UiHDpR8RY9Z"
      },
      "source": [
        "#### Data:"
      ]
    },
    {
      "cell_type": "code",
      "execution_count": 2,
      "metadata": {
        "collapsed": true,
        "deletable": true,
        "editable": true,
        "id": "jgssPulaRY9a"
      },
      "outputs": [],
      "source": [
        "X = np.random.randint(100, size = 100)"
      ]
    },
    {
      "cell_type": "markdown",
      "metadata": {
        "deletable": true,
        "editable": true,
        "id": "udmbyjXLRY9b"
      },
      "source": [
        "---"
      ]
    },
    {
      "cell_type": "markdown",
      "metadata": {
        "deletable": true,
        "editable": true,
        "id": "w9j6Ivj9RY9c"
      },
      "source": [
        "# Exercise 1:\n",
        "Using the skills aquired in the lecture series, find the following parameters of the list X above:\n",
        "- Range\n",
        "- Mean Absolute Deviation\n",
        "- Variance and Standard Deviation\n",
        "- Semivariance and Semideviation\n",
        "- Target variance (with B = 60)"
      ]
    },
    {
      "cell_type": "code",
      "execution_count": 3,
      "metadata": {
        "deletable": true,
        "editable": true,
        "id": "agK3U8dvRY9d",
        "colab": {
          "base_uri": "https://localhost:8080/"
        },
        "outputId": "b4c4131e-0d0f-4062-bbb4-d616ceb11e63"
      },
      "outputs": [
        {
          "output_type": "stream",
          "name": "stdout",
          "text": [
            "Range of X: 99\n"
          ]
        }
      ],
      "source": [
        "# Range of X\n",
        "range_X = np.ptp(X)\n",
        "\n",
        "## Your code goes here\n",
        "print('Range of X: %s' %(range_X))"
      ]
    },
    {
      "cell_type": "code",
      "execution_count": 4,
      "metadata": {
        "deletable": true,
        "editable": true,
        "id": "sA7HEwc-RY9e",
        "colab": {
          "base_uri": "https://localhost:8080/"
        },
        "outputId": "92230dc3-e9b0-4b74-8311-5d31adfd92ea"
      },
      "outputs": [
        {
          "output_type": "stream",
          "name": "stdout",
          "text": [
            "Mean absolute deviation of X: 25.7756\n"
          ]
        }
      ],
      "source": [
        "# Mean Absolute Deviation\n",
        "# First calculate the value of mu (the mean)\n",
        "\n",
        "mu = np.mean(X)\n",
        "\n",
        "abs_dispersion = [np.abs(mu - x) for x in X]\n",
        "MAD = np.sum(abs_dispersion)/len(abs_dispersion)\n",
        "\n",
        "\n",
        "print ('Mean absolute deviation of X:', MAD)"
      ]
    },
    {
      "cell_type": "code",
      "execution_count": 5,
      "metadata": {
        "deletable": true,
        "editable": true,
        "id": "0OXbn2RHRY9g",
        "colab": {
          "base_uri": "https://localhost:8080/"
        },
        "outputId": "f7e86646-104e-4449-9343-53a220200697"
      },
      "outputs": [
        {
          "output_type": "stream",
          "name": "stdout",
          "text": [
            "Variance of X: 901.6915999999999\n",
            "Standard deviation of X: 30.02818009803458\n"
          ]
        }
      ],
      "source": [
        "# Variance and standard deviation\n",
        "\n",
        "## Your code goes here\n",
        "\n",
        "print('Variance of X:',  np.var(X))\n",
        "print('Standard deviation of X:', np.std(X))"
      ]
    },
    {
      "cell_type": "code",
      "execution_count": 6,
      "metadata": {
        "deletable": true,
        "editable": true,
        "id": "pEVSRyYLRY9g",
        "colab": {
          "base_uri": "https://localhost:8080/"
        },
        "outputId": "5ba23b13-9ce8-4207-ea22-313f1f894e85"
      },
      "outputs": [
        {
          "output_type": "stream",
          "name": "stdout",
          "text": [
            "Semivariance of X: 806.5582039215686\n",
            "Semideviation of X: 28.39996837888325\n"
          ]
        }
      ],
      "source": [
        "# Semivariance and semideviation\n",
        "\n",
        "lows = [e for e in X if e <= mu]\n",
        "\n",
        "semivar = np.sum( (lows - mu) ** 2 ) / len(lows)\n",
        "\n",
        "\n",
        "print('Semivariance of X:',semivar)\n",
        "print('Semideviation of X:',np.sqrt(semivar))"
      ]
    },
    {
      "cell_type": "code",
      "execution_count": 7,
      "metadata": {
        "deletable": true,
        "editable": true,
        "id": "hRYULtheRY9i",
        "colab": {
          "base_uri": "https://localhost:8080/"
        },
        "outputId": "6bd23b26-58b1-4255-e43b-59845f170cbd"
      },
      "outputs": [
        {
          "output_type": "stream",
          "name": "stdout",
          "text": [
            "Target semivariance of X: 1709.64\n",
            "Target semideviation of X: 41.34779316964813\n"
          ]
        }
      ],
      "source": [
        "# Target variance\n",
        "B = 66\n",
        "## Your code goes here\n",
        "\n",
        "lows_B = [e for e in X if e <= B]\n",
        "semivar_B = sum(map(lambda x: (x - B)**2,lows_B))/len(lows_B)\n",
        "\n",
        "print('Target semivariance of X:',semivar_B)\n",
        "print('Target semideviation of X:',np.sqrt(semivar_B))"
      ]
    },
    {
      "cell_type": "markdown",
      "metadata": {
        "deletable": true,
        "editable": true,
        "id": "4fl9QK1ORY9i"
      },
      "source": [
        "---"
      ]
    },
    {
      "cell_type": "markdown",
      "metadata": {
        "deletable": true,
        "editable": true,
        "id": "Qtzo2aVGRY9j"
      },
      "source": [
        "# Exercise 2:\n",
        "Using the skills aquired in the lecture series, find the following parameters of prices for AT&T stock over a year:\n",
        "- 30 days rolling variance\n",
        "- 15 days rolling Standard Deviation"
      ]
    },
    {
      "cell_type": "code",
      "execution_count": 10,
      "metadata": {
        "deletable": true,
        "editable": true,
        "id": "mYwJa0VIRY9j",
        "colab": {
          "base_uri": "https://localhost:8080/",
          "height": 255
        },
        "outputId": "9f2c24d4-f2e1-477e-c71b-02c486cd72bf"
      },
      "outputs": [
        {
          "output_type": "stream",
          "name": "stderr",
          "text": [
            "\r[*********************100%%**********************]  1 of 1 completed\n"
          ]
        },
        {
          "output_type": "execute_result",
          "data": {
            "text/plain": [
              "                 Open       High        Low      Close  Adj Close    Volume\n",
              "Date                                                                       \n",
              "2016-01-04  25.740181  25.944109  25.679758  25.944109  13.899072  42076058\n",
              "2016-01-05  25.944109  26.200907  25.770393  26.125378  13.996187  40656465\n",
              "2016-01-06  25.543806  25.838369  25.468279  25.725077  14.039685  35631223\n",
              "2016-01-07  25.392750  25.755287  25.309668  25.309668  13.812968  46487494\n",
              "2016-01-08  25.506042  25.649548  25.234138  25.332327  13.825334  37192219"
            ],
            "text/html": [
              "\n",
              "  <div id=\"df-b230797e-5f90-45c6-96b6-681ec16fbe81\" class=\"colab-df-container\">\n",
              "    <div>\n",
              "<style scoped>\n",
              "    .dataframe tbody tr th:only-of-type {\n",
              "        vertical-align: middle;\n",
              "    }\n",
              "\n",
              "    .dataframe tbody tr th {\n",
              "        vertical-align: top;\n",
              "    }\n",
              "\n",
              "    .dataframe thead th {\n",
              "        text-align: right;\n",
              "    }\n",
              "</style>\n",
              "<table border=\"1\" class=\"dataframe\">\n",
              "  <thead>\n",
              "    <tr style=\"text-align: right;\">\n",
              "      <th></th>\n",
              "      <th>Open</th>\n",
              "      <th>High</th>\n",
              "      <th>Low</th>\n",
              "      <th>Close</th>\n",
              "      <th>Adj Close</th>\n",
              "      <th>Volume</th>\n",
              "    </tr>\n",
              "    <tr>\n",
              "      <th>Date</th>\n",
              "      <th></th>\n",
              "      <th></th>\n",
              "      <th></th>\n",
              "      <th></th>\n",
              "      <th></th>\n",
              "      <th></th>\n",
              "    </tr>\n",
              "  </thead>\n",
              "  <tbody>\n",
              "    <tr>\n",
              "      <th>2016-01-04</th>\n",
              "      <td>25.740181</td>\n",
              "      <td>25.944109</td>\n",
              "      <td>25.679758</td>\n",
              "      <td>25.944109</td>\n",
              "      <td>13.899072</td>\n",
              "      <td>42076058</td>\n",
              "    </tr>\n",
              "    <tr>\n",
              "      <th>2016-01-05</th>\n",
              "      <td>25.944109</td>\n",
              "      <td>26.200907</td>\n",
              "      <td>25.770393</td>\n",
              "      <td>26.125378</td>\n",
              "      <td>13.996187</td>\n",
              "      <td>40656465</td>\n",
              "    </tr>\n",
              "    <tr>\n",
              "      <th>2016-01-06</th>\n",
              "      <td>25.543806</td>\n",
              "      <td>25.838369</td>\n",
              "      <td>25.468279</td>\n",
              "      <td>25.725077</td>\n",
              "      <td>14.039685</td>\n",
              "      <td>35631223</td>\n",
              "    </tr>\n",
              "    <tr>\n",
              "      <th>2016-01-07</th>\n",
              "      <td>25.392750</td>\n",
              "      <td>25.755287</td>\n",
              "      <td>25.309668</td>\n",
              "      <td>25.309668</td>\n",
              "      <td>13.812968</td>\n",
              "      <td>46487494</td>\n",
              "    </tr>\n",
              "    <tr>\n",
              "      <th>2016-01-08</th>\n",
              "      <td>25.506042</td>\n",
              "      <td>25.649548</td>\n",
              "      <td>25.234138</td>\n",
              "      <td>25.332327</td>\n",
              "      <td>13.825334</td>\n",
              "      <td>37192219</td>\n",
              "    </tr>\n",
              "  </tbody>\n",
              "</table>\n",
              "</div>\n",
              "    <div class=\"colab-df-buttons\">\n",
              "\n",
              "  <div class=\"colab-df-container\">\n",
              "    <button class=\"colab-df-convert\" onclick=\"convertToInteractive('df-b230797e-5f90-45c6-96b6-681ec16fbe81')\"\n",
              "            title=\"Convert this dataframe to an interactive table.\"\n",
              "            style=\"display:none;\">\n",
              "\n",
              "  <svg xmlns=\"http://www.w3.org/2000/svg\" height=\"24px\" viewBox=\"0 -960 960 960\">\n",
              "    <path d=\"M120-120v-720h720v720H120Zm60-500h600v-160H180v160Zm220 220h160v-160H400v160Zm0 220h160v-160H400v160ZM180-400h160v-160H180v160Zm440 0h160v-160H620v160ZM180-180h160v-160H180v160Zm440 0h160v-160H620v160Z\"/>\n",
              "  </svg>\n",
              "    </button>\n",
              "\n",
              "  <style>\n",
              "    .colab-df-container {\n",
              "      display:flex;\n",
              "      gap: 12px;\n",
              "    }\n",
              "\n",
              "    .colab-df-convert {\n",
              "      background-color: #E8F0FE;\n",
              "      border: none;\n",
              "      border-radius: 50%;\n",
              "      cursor: pointer;\n",
              "      display: none;\n",
              "      fill: #1967D2;\n",
              "      height: 32px;\n",
              "      padding: 0 0 0 0;\n",
              "      width: 32px;\n",
              "    }\n",
              "\n",
              "    .colab-df-convert:hover {\n",
              "      background-color: #E2EBFA;\n",
              "      box-shadow: 0px 1px 2px rgba(60, 64, 67, 0.3), 0px 1px 3px 1px rgba(60, 64, 67, 0.15);\n",
              "      fill: #174EA6;\n",
              "    }\n",
              "\n",
              "    .colab-df-buttons div {\n",
              "      margin-bottom: 4px;\n",
              "    }\n",
              "\n",
              "    [theme=dark] .colab-df-convert {\n",
              "      background-color: #3B4455;\n",
              "      fill: #D2E3FC;\n",
              "    }\n",
              "\n",
              "    [theme=dark] .colab-df-convert:hover {\n",
              "      background-color: #434B5C;\n",
              "      box-shadow: 0px 1px 3px 1px rgba(0, 0, 0, 0.15);\n",
              "      filter: drop-shadow(0px 1px 2px rgba(0, 0, 0, 0.3));\n",
              "      fill: #FFFFFF;\n",
              "    }\n",
              "  </style>\n",
              "\n",
              "    <script>\n",
              "      const buttonEl =\n",
              "        document.querySelector('#df-b230797e-5f90-45c6-96b6-681ec16fbe81 button.colab-df-convert');\n",
              "      buttonEl.style.display =\n",
              "        google.colab.kernel.accessAllowed ? 'block' : 'none';\n",
              "\n",
              "      async function convertToInteractive(key) {\n",
              "        const element = document.querySelector('#df-b230797e-5f90-45c6-96b6-681ec16fbe81');\n",
              "        const dataTable =\n",
              "          await google.colab.kernel.invokeFunction('convertToInteractive',\n",
              "                                                    [key], {});\n",
              "        if (!dataTable) return;\n",
              "\n",
              "        const docLinkHtml = 'Like what you see? Visit the ' +\n",
              "          '<a target=\"_blank\" href=https://colab.research.google.com/notebooks/data_table.ipynb>data table notebook</a>'\n",
              "          + ' to learn more about interactive tables.';\n",
              "        element.innerHTML = '';\n",
              "        dataTable['output_type'] = 'display_data';\n",
              "        await google.colab.output.renderOutput(dataTable, element);\n",
              "        const docLink = document.createElement('div');\n",
              "        docLink.innerHTML = docLinkHtml;\n",
              "        element.appendChild(docLink);\n",
              "      }\n",
              "    </script>\n",
              "  </div>\n",
              "\n",
              "\n",
              "<div id=\"df-5ec9e56a-695d-4bc9-b7e0-9522f310430c\">\n",
              "  <button class=\"colab-df-quickchart\" onclick=\"quickchart('df-5ec9e56a-695d-4bc9-b7e0-9522f310430c')\"\n",
              "            title=\"Suggest charts\"\n",
              "            style=\"display:none;\">\n",
              "\n",
              "<svg xmlns=\"http://www.w3.org/2000/svg\" height=\"24px\"viewBox=\"0 0 24 24\"\n",
              "     width=\"24px\">\n",
              "    <g>\n",
              "        <path d=\"M19 3H5c-1.1 0-2 .9-2 2v14c0 1.1.9 2 2 2h14c1.1 0 2-.9 2-2V5c0-1.1-.9-2-2-2zM9 17H7v-7h2v7zm4 0h-2V7h2v10zm4 0h-2v-4h2v4z\"/>\n",
              "    </g>\n",
              "</svg>\n",
              "  </button>\n",
              "\n",
              "<style>\n",
              "  .colab-df-quickchart {\n",
              "      --bg-color: #E8F0FE;\n",
              "      --fill-color: #1967D2;\n",
              "      --hover-bg-color: #E2EBFA;\n",
              "      --hover-fill-color: #174EA6;\n",
              "      --disabled-fill-color: #AAA;\n",
              "      --disabled-bg-color: #DDD;\n",
              "  }\n",
              "\n",
              "  [theme=dark] .colab-df-quickchart {\n",
              "      --bg-color: #3B4455;\n",
              "      --fill-color: #D2E3FC;\n",
              "      --hover-bg-color: #434B5C;\n",
              "      --hover-fill-color: #FFFFFF;\n",
              "      --disabled-bg-color: #3B4455;\n",
              "      --disabled-fill-color: #666;\n",
              "  }\n",
              "\n",
              "  .colab-df-quickchart {\n",
              "    background-color: var(--bg-color);\n",
              "    border: none;\n",
              "    border-radius: 50%;\n",
              "    cursor: pointer;\n",
              "    display: none;\n",
              "    fill: var(--fill-color);\n",
              "    height: 32px;\n",
              "    padding: 0;\n",
              "    width: 32px;\n",
              "  }\n",
              "\n",
              "  .colab-df-quickchart:hover {\n",
              "    background-color: var(--hover-bg-color);\n",
              "    box-shadow: 0 1px 2px rgba(60, 64, 67, 0.3), 0 1px 3px 1px rgba(60, 64, 67, 0.15);\n",
              "    fill: var(--button-hover-fill-color);\n",
              "  }\n",
              "\n",
              "  .colab-df-quickchart-complete:disabled,\n",
              "  .colab-df-quickchart-complete:disabled:hover {\n",
              "    background-color: var(--disabled-bg-color);\n",
              "    fill: var(--disabled-fill-color);\n",
              "    box-shadow: none;\n",
              "  }\n",
              "\n",
              "  .colab-df-spinner {\n",
              "    border: 2px solid var(--fill-color);\n",
              "    border-color: transparent;\n",
              "    border-bottom-color: var(--fill-color);\n",
              "    animation:\n",
              "      spin 1s steps(1) infinite;\n",
              "  }\n",
              "\n",
              "  @keyframes spin {\n",
              "    0% {\n",
              "      border-color: transparent;\n",
              "      border-bottom-color: var(--fill-color);\n",
              "      border-left-color: var(--fill-color);\n",
              "    }\n",
              "    20% {\n",
              "      border-color: transparent;\n",
              "      border-left-color: var(--fill-color);\n",
              "      border-top-color: var(--fill-color);\n",
              "    }\n",
              "    30% {\n",
              "      border-color: transparent;\n",
              "      border-left-color: var(--fill-color);\n",
              "      border-top-color: var(--fill-color);\n",
              "      border-right-color: var(--fill-color);\n",
              "    }\n",
              "    40% {\n",
              "      border-color: transparent;\n",
              "      border-right-color: var(--fill-color);\n",
              "      border-top-color: var(--fill-color);\n",
              "    }\n",
              "    60% {\n",
              "      border-color: transparent;\n",
              "      border-right-color: var(--fill-color);\n",
              "    }\n",
              "    80% {\n",
              "      border-color: transparent;\n",
              "      border-right-color: var(--fill-color);\n",
              "      border-bottom-color: var(--fill-color);\n",
              "    }\n",
              "    90% {\n",
              "      border-color: transparent;\n",
              "      border-bottom-color: var(--fill-color);\n",
              "    }\n",
              "  }\n",
              "</style>\n",
              "\n",
              "  <script>\n",
              "    async function quickchart(key) {\n",
              "      const quickchartButtonEl =\n",
              "        document.querySelector('#' + key + ' button');\n",
              "      quickchartButtonEl.disabled = true;  // To prevent multiple clicks.\n",
              "      quickchartButtonEl.classList.add('colab-df-spinner');\n",
              "      try {\n",
              "        const charts = await google.colab.kernel.invokeFunction(\n",
              "            'suggestCharts', [key], {});\n",
              "      } catch (error) {\n",
              "        console.error('Error during call to suggestCharts:', error);\n",
              "      }\n",
              "      quickchartButtonEl.classList.remove('colab-df-spinner');\n",
              "      quickchartButtonEl.classList.add('colab-df-quickchart-complete');\n",
              "    }\n",
              "    (() => {\n",
              "      let quickchartButtonEl =\n",
              "        document.querySelector('#df-5ec9e56a-695d-4bc9-b7e0-9522f310430c button');\n",
              "      quickchartButtonEl.style.display =\n",
              "        google.colab.kernel.accessAllowed ? 'block' : 'none';\n",
              "    })();\n",
              "  </script>\n",
              "</div>\n",
              "    </div>\n",
              "  </div>\n"
            ]
          },
          "metadata": {},
          "execution_count": 10
        }
      ],
      "source": [
        "import yfinance as yf\n",
        "import datetime\n",
        "\n",
        "start = datetime.datetime(2016,1,1)\n",
        "end = datetime.datetime(2017,1,1)\n",
        "att = yf.download('T', start = start, end = end)\n",
        "att.head(5)"
      ]
    },
    {
      "cell_type": "code",
      "source": [
        "att = att['Open']"
      ],
      "metadata": {
        "id": "1QdPUiXYhwEa"
      },
      "execution_count": 11,
      "outputs": []
    },
    {
      "cell_type": "code",
      "execution_count": 15,
      "metadata": {
        "deletable": true,
        "editable": true,
        "id": "XTs5M4fFRY9j",
        "colab": {
          "base_uri": "https://localhost:8080/",
          "height": 447
        },
        "outputId": "f9163380-0d90-4307-8e4c-e4f881ae5810"
      },
      "outputs": [
        {
          "output_type": "execute_result",
          "data": {
            "text/plain": [
              "<matplotlib.legend.Legend at 0x7d71e9569870>"
            ]
          },
          "metadata": {},
          "execution_count": 15
        },
        {
          "output_type": "display_data",
          "data": {
            "text/plain": [
              "<Figure size 640x480 with 1 Axes>"
            ],
            "image/png": "[encoded data removed]"
          },
          "metadata": {}
        }
      ],
      "source": [
        "# Rolling variance\n",
        "var_30 = att.rolling(window=30).var()\n",
        "\n",
        "import matplotlib.pyplot as plt\n",
        "plt.plot(var_30.index, var_30.values)\n",
        "plt.plot(att.index, att.values)\n",
        "plt.legend(['var','att'])"
      ]
    },
    {
      "cell_type": "code",
      "source": [
        "plt.plot(var_30.index, var_30.values)"
      ],
      "metadata": {
        "colab": {
          "base_uri": "https://localhost:8080/",
          "height": 447
        },
        "id": "PtZExuZ3irla",
        "outputId": "a13e4e2b-c271-4ad4-ac53-28e653b2bbc2"
      },
      "execution_count": 16,
      "outputs": [
        {
          "output_type": "execute_result",
          "data": {
            "text/plain": [
              "[<matplotlib.lines.Line2D at 0x7d71e93caf20>]"
            ]
          },
          "metadata": {},
          "execution_count": 16
        },
        {
          "output_type": "display_data",
          "data": {
            "text/plain": [
              "<Figure size 640x480 with 1 Axes>"
            ],
            "image/png": "[encoded data removed]"
          },
          "metadata": {}
        }
      ]
    },
    {
      "cell_type": "code",
      "execution_count": 18,
      "metadata": {
        "collapsed": true,
        "deletable": true,
        "editable": true,
        "id": "bwa5A72XRY9k",
        "colab": {
          "base_uri": "https://localhost:8080/",
          "height": 447
        },
        "outputId": "abd6021a-96c9-421e-ecdf-54cc9afacdd2"
      },
      "outputs": [
        {
          "output_type": "execute_result",
          "data": {
            "text/plain": [
              "[<matplotlib.lines.Line2D at 0x7d71e90c7dc0>]"
            ]
          },
          "metadata": {},
          "execution_count": 18
        },
        {
          "output_type": "display_data",
          "data": {
            "text/plain": [
              "<Figure size 640x480 with 1 Axes>"
            ],
            "image/png": "[encoded data removed]"
          },
          "metadata": {}
        }
      ],
      "source": [
        "# Rolling standard deviation\n",
        "\n",
        "std_15 = att.rolling(window=15).std()\n",
        "plt.plot(std_15.index, std_15.values)"
      ]
    },
    {
      "cell_type": "markdown",
      "metadata": {
        "deletable": true,
        "editable": true,
        "id": "EFAOx1fdRY9k"
      },
      "source": [
        "---"
      ]
    },
    {
      "cell_type": "markdown",
      "metadata": {
        "deletable": true,
        "editable": true,
        "id": "39YEjAy-RY9k"
      },
      "source": [
        "# Exercise 3 :\n",
        "The portfolio variance is calculated as\n",
        "\n",
        "$$\\text{VAR}_p = \\text{VAR}_{s1} (w_1^2) + \\text{VAR}_{s2}(w_2^2) + \\text{COV}_{S_1, S_2} (2 w_1 w_2)$$\n",
        "\n",
        "Where $w_1$ and $w_2$ are the weights of $S_1$ and $S_2$.\n",
        "\n",
        "Find values of $w_1$ and $w_2$ to have a portfolio variance of 50."
      ]
    },
    {
      "cell_type": "code",
      "execution_count": 19,
      "metadata": {
        "deletable": true,
        "editable": true,
        "id": "BDtUO2BFRY9l",
        "colab": {
          "base_uri": "https://localhost:8080/"
        },
        "outputId": "9498a871-03ba-425c-8d94-66d94d16e38d"
      },
      "outputs": [
        {
          "output_type": "stream",
          "name": "stderr",
          "text": [
            "[*********************100%%**********************]  1 of 1 completed\n",
            "[*********************100%%**********************]  1 of 1 completed"
          ]
        },
        {
          "output_type": "stream",
          "name": "stdout",
          "text": [
            "Portfolio variance:  2.7107720284148096\n"
          ]
        },
        {
          "output_type": "stream",
          "name": "stderr",
          "text": [
            "\n"
          ]
        }
      ],
      "source": [
        "asset1 = yf.download('AAPL', start=start, end=end)['Open']\n",
        "asset2 = yf.download('XLF', start=start, end=end)['Open']\n",
        "\n",
        "cov = np.cov(asset1, asset2)[0,1]\n",
        "\n",
        "w1 = 0.6 # desired portfolio weight\n",
        "w2 = 1 - w1\n",
        "\n",
        "v1 = np.var(asset1)\n",
        "v2 = np.var(asset2)\n",
        "\n",
        "pvariance = (w1**2)*v1+(w2**2)*v2+(2*w1*w2)*cov\n",
        "\n",
        "print('Portfolio variance: ', pvariance)"
      ]
    },
    {
      "cell_type": "markdown",
      "metadata": {
        "deletable": true,
        "editable": true,
        "id": "fpmalP_TRY9l"
      },
      "source": [
        "---\n",
        "\n",
        "Congratulations on completing the Variance exercises!\n",
        "\n",
        "As you learn more about writing trading models and the Quantopian platform, enter a daily [Quantopian Contest](https://www.quantopian.com/contest). Your strategy will be evaluated for a cash prize every day.\n",
        "\n",
        "Start by going through the [Writing a Contest Algorithm](https://www.quantopian.com/tutorials/contest) tutorial."
      ]
    },
    {
      "cell_type": "markdown",
      "metadata": {
        "deletable": true,
        "editable": true,
        "id": "TsBPhAbCRY9m"
      },
      "source": [
        "*This presentation is for informational purposes only and does not constitute an offer to sell, a solicitation to buy, or a recommendation for any security; nor does it constitute an offer to provide investment advisory or other services by Quantopian, Inc. (\"Quantopian\"). Nothing contained herein constitutes investment advice or offers any opinion with respect to the suitability of any security, and any views expressed herein should not be taken as advice to buy, sell, or hold any security or as an endorsement of any security or company.  In preparing the information contained herein, Quantopian, Inc. has not taken into account the investment needs, objectives, and financial circumstances of any particular investor. Any views expressed and data illustrated herein were prepared based upon information, believed to be reliable, available to Quantopian, Inc. at the time of publication. Quantopian makes no guarantees as to their accuracy or completeness. All information is subject to change and may quickly become unreliable for various reasons, including changes in market conditions or economic circumstances.*"
      ]
    }
  ],
  "metadata": {
    "kernelspec": {
      "display_name": "Python 2",
      "language": "python",
      "name": "python2"
    },
    "language_info": {
      "codemirror_mode": {
        "name": "ipython",
        "version": 2
      },
      "file_extension": ".py",
      "mimetype": "text/x-python",
      "name": "python",
      "nbconvert_exporter": "python",
      "pygments_lexer": "ipython2",
      "version": "2.7.12"
    },
    "colab": {
      "provenance": []
    }
  },
  "nbformat": 4,
  "nbformat_minor": 0
}