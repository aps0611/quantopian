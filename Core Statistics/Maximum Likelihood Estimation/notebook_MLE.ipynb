{
  "cells": [
    {
      "cell_type": "markdown",
      "metadata": {
        "deletable": true,
        "editable": true,
        "id": "9mADSS4_7mGG"
      },
      "source": [
        "#Maximum Likelihood Estimates (MLEs)\n",
        "\n",
        "By Delaney Granizo-Mackenzie and Andrei Kirilenko developed as part of the Masters of Finance curriculum at MIT Sloan.\n",
        "\n",
        "Part of the Quantopian Lecture Series:\n",
        "\n",
        "* [www.quantopian.com/lectures](https://www.quantopian.com/lectures)\n",
        "* [github.com/quantopian/research_public](https://github.com/quantopian/research_public)\n",
        "\n",
        "Notebook released under the Creative Commons Attribution 4.0 License.\n",
        "\n",
        "---"
      ]
    },
    {
      "cell_type": "markdown",
      "metadata": {
        "deletable": true,
        "editable": true,
        "id": "MZfl3rxL7mGH"
      },
      "source": [
        "In this tutorial notebook, we'll do the following things:\n",
        "1. Compute the MLE for a normal distribution.\n",
        "2. Compute the MLE for an exponential distribution.\n",
        "3. Fit a normal distribution to asset returns using MLE."
      ]
    },
    {
      "cell_type": "markdown",
      "metadata": {
        "deletable": true,
        "editable": true,
        "id": "vviNgoiM7mGI"
      },
      "source": [
        "First we need to import some libraries"
      ]
    },
    {
      "cell_type": "code",
      "execution_count": 1,
      "metadata": {
        "collapsed": true,
        "deletable": true,
        "editable": true,
        "id": "BUaIe6TB7mGI"
      },
      "outputs": [],
      "source": [
        "import math\n",
        "import matplotlib.pyplot as plt\n",
        "import numpy as np\n",
        "import scipy\n",
        "import scipy.stats"
      ]
    },
    {
      "cell_type": "markdown",
      "metadata": {
        "deletable": true,
        "editable": true,
        "id": "f6RQJ3Gk7mGJ"
      },
      "source": [
        "##Normal Distribution\n",
        "We'll start by sampling some data from a normal distribution."
      ]
    },
    {
      "cell_type": "code",
      "execution_count": 2,
      "metadata": {
        "deletable": true,
        "editable": true,
        "id": "hBPC9ibp7mGJ"
      },
      "outputs": [],
      "source": [
        "TRUE_MEAN = 40\n",
        "TRUE_STD = 10\n",
        "X = np.random.normal(TRUE_MEAN, TRUE_STD, 1000)"
      ]
    },
    {
      "cell_type": "markdown",
      "metadata": {
        "deletable": true,
        "editable": true,
        "id": "lO5FVKAz7mGJ"
      },
      "source": [
        "Now we'll define functions that, given our data, will compute the MLE for the $\\mu$ and $\\sigma$ parameters of the normal distribution.\n",
        "\n",
        "Recall that\n",
        "\n",
        "$$\\hat\\mu = \\frac{1}{T}\\sum_{t=1}^{T} x_t$$\n",
        "\n",
        "$$\\hat\\sigma = \\sqrt{\\frac{1}{T}\\sum_{t=1}^{T}{(x_t - \\hat\\mu)^2}}$$"
      ]
    },
    {
      "cell_type": "code",
      "execution_count": 3,
      "metadata": {
        "deletable": true,
        "editable": true,
        "id": "i4oZeS4f7mGK"
      },
      "outputs": [],
      "source": [
        "def normal_mu_MLE(X):\n",
        "    # Get the number of observations\n",
        "    T = len(X)\n",
        "    # Sum the observations\n",
        "    s = sum(X)\n",
        "    return 1.0/T * s\n",
        "\n",
        "def normal_sigma_MLE(X):\n",
        "    T = len(X)\n",
        "    # Get the mu MLE\n",
        "    mu = normal_mu_MLE(X)\n",
        "    # Sum the square of the differences\n",
        "    s = sum( np.power((X - mu), 2) )\n",
        "    # Compute sigma^2\n",
        "    sigma_squared = 1.0/T * s\n",
        "    return math.sqrt(sigma_squared)"
      ]
    },
    {
      "cell_type": "markdown",
      "metadata": {
        "deletable": true,
        "editable": true,
        "id": "7A21EQzr7mGK"
      },
      "source": [
        "Now let's try our functions out on our sample data and see how they compare to the built-in `np.mean` and `np.std`"
      ]
    },
    {
      "cell_type": "code",
      "execution_count": 5,
      "metadata": {
        "deletable": true,
        "editable": true,
        "id": "MEYyoa5T7mGK",
        "outputId": "78114191-1e60-4050-94df-42d36eb99bce",
        "colab": {
          "base_uri": "https://localhost:8080/"
        }
      },
      "outputs": [
        {
          "output_type": "stream",
          "name": "stdout",
          "text": [
            "Mean Estimation\n",
            "39.56453154940627\n",
            "39.564531549406276\n",
            "Standard Deviation Estimation\n",
            "10.195634035471194\n",
            "10.195634035471198\n"
          ]
        }
      ],
      "source": [
        "print( \"Mean Estimation\")\n",
        "print( normal_mu_MLE(X))\n",
        "print( np.mean(X))\n",
        "print( \"Standard Deviation Estimation\")\n",
        "print( normal_sigma_MLE(X))\n",
        "print( np.std(X))"
      ]
    },
    {
      "cell_type": "markdown",
      "metadata": {
        "deletable": true,
        "editable": true,
        "id": "Qe8gAS4m7mGL"
      },
      "source": [
        "Now let's estimate both parameters at once with scipy's built in `fit()` function."
      ]
    },
    {
      "cell_type": "code",
      "execution_count": 6,
      "metadata": {
        "deletable": true,
        "editable": true,
        "id": "Ys6EcwS67mGL",
        "outputId": "efc5fbe4-eb8a-4115-f2c6-79a681b15e35",
        "colab": {
          "base_uri": "https://localhost:8080/"
        }
      },
      "outputs": [
        {
          "output_type": "stream",
          "name": "stdout",
          "text": [
            "mu estimate: 39.564531549406276\n",
            "std estimate: 10.195634035471198\n"
          ]
        }
      ],
      "source": [
        "mu, std = scipy.stats.norm.fit(X)\n",
        "print( \"mu estimate: \" + str(mu))\n",
        "print( \"std estimate: \" + str(std))"
      ]
    },
    {
      "cell_type": "markdown",
      "metadata": {
        "deletable": true,
        "editable": true,
        "id": "cVSStBHl7mGM"
      },
      "source": [
        "Now let's plot the distribution PDF along with the data to see how well it fits. We can do that by accessing the pdf provided in `scipy.stats.norm.pdf`."
      ]
    },
    {
      "cell_type": "code",
      "execution_count": 8,
      "metadata": {
        "deletable": true,
        "editable": true,
        "id": "m-bvmQvP7mGM",
        "outputId": "713a6d00-6070-454d-bd29-73573364e25f",
        "colab": {
          "base_uri": "https://localhost:8080/",
          "height": 449
        }
      },
      "outputs": [
        {
          "output_type": "display_data",
          "data": {
            "text/plain": [
              "<Figure size 640x480 with 1 Axes>"
            ],
            "image/png": "[encoded data removed]"
          },
          "metadata": {}
        }
      ],
      "source": [
        "pdf = scipy.stats.norm.pdf\n",
        "# We would like to plot our data along an x-axis ranging from 0-80 with 80 intervals\n",
        "# (increments of 1)\n",
        "x = np.linspace(0, 80, 80)\n",
        "plt.hist(X, bins=x, density='true')\n",
        "plt.plot(pdf(x, loc=mu, scale=std))\n",
        "plt.xlabel('Value')\n",
        "plt.ylabel('Observed Frequency')\n",
        "plt.legend(['Fitted Distribution PDF', 'Observed Data', ]);"
      ]
    },
    {
      "cell_type": "markdown",
      "metadata": {
        "deletable": true,
        "editable": true,
        "id": "9Ds3ykOy7mGM"
      },
      "source": [
        "##Exponential Distribution\n",
        "Let's do the same thing, but for the exponential distribution. We'll start by sampling some data."
      ]
    },
    {
      "cell_type": "code",
      "execution_count": 9,
      "metadata": {
        "collapsed": true,
        "deletable": true,
        "editable": true,
        "id": "-_GY6CA67mGN"
      },
      "outputs": [],
      "source": [
        "TRUE_LAMBDA = 5\n",
        "X = np.random.exponential(TRUE_LAMBDA, 1000)"
      ]
    },
    {
      "cell_type": "markdown",
      "metadata": {
        "deletable": true,
        "editable": true,
        "id": "EIwOfT947mGN"
      },
      "source": [
        "`numpy` defines the exponential distribution as\n",
        "$$\\frac{1}{\\lambda}e^{-\\frac{x}{\\lambda}}$$\n",
        "\n",
        "So we need to invert the MLE from the lecture notes. There it is\n",
        "\n",
        "$$\\hat\\lambda = \\frac{T}{\\sum_{t=1}^{T} x_t}$$\n",
        "\n",
        "Here it's just the reciprocal, so\n",
        "\n",
        "$$\\hat\\lambda = \\frac{\\sum_{t=1}^{T} x_t}{T}$$"
      ]
    },
    {
      "cell_type": "code",
      "execution_count": 10,
      "metadata": {
        "deletable": true,
        "editable": true,
        "id": "Q_3RH7kP7mGN"
      },
      "outputs": [],
      "source": [
        "def exp_lamda_MLE(X):\n",
        "    T = len(X)\n",
        "    s = sum(X)\n",
        "    return s/T"
      ]
    },
    {
      "cell_type": "code",
      "execution_count": 12,
      "metadata": {
        "deletable": true,
        "editable": true,
        "id": "PUnxTrgq7mGN",
        "outputId": "07272b34-e84f-4749-e779-d18ba85054ab",
        "colab": {
          "base_uri": "https://localhost:8080/"
        }
      },
      "outputs": [
        {
          "output_type": "stream",
          "name": "stdout",
          "text": [
            "lambda estimate: 4.874699783360193\n"
          ]
        }
      ],
      "source": [
        "print( \"lambda estimate: \" + str(exp_lamda_MLE(X)))"
      ]
    },
    {
      "cell_type": "code",
      "execution_count": 13,
      "metadata": {
        "deletable": true,
        "editable": true,
        "id": "-RTtGBZ37mGN"
      },
      "outputs": [],
      "source": [
        "# The scipy version of the exponential distribution has a location parameter\n",
        "# that can skew the distribution. We ignore this by fixing the location\n",
        "# parameter to 0 with floc=0\n",
        "_, l = scipy.stats.expon.fit(X, floc=0)"
      ]
    },
    {
      "cell_type": "code",
      "execution_count": 15,
      "metadata": {
        "deletable": true,
        "editable": true,
        "id": "8RiloF7Q7mGO",
        "outputId": "b16fe0cb-3764-4ee3-b93e-af11b235d868",
        "colab": {
          "base_uri": "https://localhost:8080/",
          "height": 449
        }
      },
      "outputs": [
        {
          "output_type": "display_data",
          "data": {
            "text/plain": [
              "<Figure size 640x480 with 1 Axes>"
            ],
            "image/png": "[encoded data removed]"
          },
          "metadata": {}
        }
      ],
      "source": [
        "pdf = scipy.stats.expon.pdf\n",
        "x = range(0, 80)\n",
        "plt.hist(X, bins=x, density='true')\n",
        "plt.plot(pdf(x, scale=l))\n",
        "plt.xlabel('Value')\n",
        "plt.ylabel('Observed Frequency')\n",
        "plt.legend(['Fitted Distribution PDF', 'Observed Data', ]);"
      ]
    },
    {
      "cell_type": "markdown",
      "metadata": {
        "deletable": true,
        "editable": true,
        "id": "-bd_AiHa7mGO"
      },
      "source": [
        "##MLE for Asset Returns\n",
        "\n",
        "Now we'll fetch some real returns and try to fit a normal distribution to them using MLE."
      ]
    },
    {
      "cell_type": "code",
      "execution_count": 20,
      "metadata": {
        "deletable": true,
        "editable": true,
        "id": "Wh7fx3-J7mGO",
        "colab": {
          "base_uri": "https://localhost:8080/"
        },
        "outputId": "98f16fcb-d6e2-499f-c461-460c84f733e6"
      },
      "outputs": [
        {
          "output_type": "stream",
          "name": "stderr",
          "text": [
            "\r[*********************100%%**********************]  1 of 1 completed\n"
          ]
        }
      ],
      "source": [
        "import yfinance as yf\n",
        "from datetime import datetime\n",
        "\n",
        "start = datetime(2014,1,1)\n",
        "end = datetime(2015,1,1)\n",
        "\n",
        "prices = yf.download('TSLA', start=start, end=end)['Close']\n",
        "# This will give us the number of dollars returned each day\n",
        "absolute_returns = np.diff(prices)\n",
        "# This will give us the percentage return over the last day's value\n",
        "# the [:-1] notation gives us all but the last item in the array\n",
        "# We do this because there are no returns on the final price in the array.\n",
        "returns = absolute_returns/prices[:-1]"
      ]
    },
    {
      "cell_type": "markdown",
      "metadata": {
        "deletable": true,
        "editable": true,
        "id": "6aiBBnOE7mGO"
      },
      "source": [
        "Let's use `scipy`'s fit function to get the $\\mu$ and $\\sigma$ MLEs."
      ]
    },
    {
      "cell_type": "code",
      "execution_count": 22,
      "metadata": {
        "deletable": true,
        "editable": true,
        "id": "DnfzA28r7mGO",
        "outputId": "a72c231b-5290-425b-f2c6-b030c11b6f43",
        "colab": {
          "base_uri": "https://localhost:8080/",
          "height": 430
        }
      },
      "outputs": [
        {
          "output_type": "display_data",
          "data": {
            "text/plain": [
              "<Figure size 640x480 with 1 Axes>"
            ],
            "image/png": "[encoded data removed]"
          },
          "metadata": {}
        }
      ],
      "source": [
        "mu, std = scipy.stats.norm.fit(returns)\n",
        "pdf = scipy.stats.norm.pdf\n",
        "x = np.linspace(-1,1, num=100)\n",
        "h = plt.hist(returns, bins=x, density='true')\n",
        "l = plt.plot(x, pdf(x, loc=mu, scale=std))"
      ]
    },
    {
      "cell_type": "markdown",
      "metadata": {
        "deletable": true,
        "editable": true,
        "id": "ArH9pqBY7mGP"
      },
      "source": [
        "Of course, this fit is meaningless unless we've tested that they obey a normal distribution first. We can test this using the Jarque-Bera normality test. The Jarque-Bera test will reject the hypothesis of a normal distribution if the p-value is under a c."
      ]
    },
    {
      "cell_type": "code",
      "execution_count": 23,
      "metadata": {
        "deletable": true,
        "editable": true,
        "id": "1wxvHZN87mGP",
        "outputId": "60a0ee7e-88eb-4cc4-fbdd-1b70e1e667f9",
        "colab": {
          "base_uri": "https://localhost:8080/"
        }
      },
      "outputs": [
        {
          "output_type": "execute_result",
          "data": {
            "text/plain": [
              "(249.43268824491162,\n",
              " 6.860881912969277e-55,\n",
              " 0.7513123088069728,\n",
              " 7.646746902938265)"
            ]
          },
          "metadata": {},
          "execution_count": 23
        }
      ],
      "source": [
        "from statsmodels.stats.stattools import jarque_bera\n",
        "jarque_bera(returns)"
      ]
    },
    {
      "cell_type": "code",
      "execution_count": 24,
      "metadata": {
        "deletable": true,
        "editable": true,
        "id": "cTh_bcNI7mGP",
        "outputId": "c2259f4d-f917-4f20-8542-426db1698a29",
        "colab": {
          "base_uri": "https://localhost:8080/"
        }
      },
      "outputs": [
        {
          "output_type": "execute_result",
          "data": {
            "text/plain": [
              "(2.455595648017392, 0.2929369666464012, 0.323899642532706, 3.4119454354558565)"
            ]
          },
          "metadata": {},
          "execution_count": 24
        }
      ],
      "source": [
        "jarque_bera(np.random.normal(0, 1, 100))"
      ]
    },
    {
      "cell_type": "markdown",
      "metadata": {
        "deletable": true,
        "editable": true,
        "id": "yBkqXuTh7mGQ"
      },
      "source": [
        "*This presentation is for informational purposes only and does not constitute an offer to sell, a solicitation to buy, or a recommendation for any security; nor does it constitute an offer to provide investment advisory or other services by Quantopian, Inc. (\"Quantopian\"). Nothing contained herein constitutes investment advice or offers any opinion with respect to the suitability of any security, and any views expressed herein should not be taken as advice to buy, sell, or hold any security or as an endorsement of any security or company.  In preparing the information contained herein, Quantopian, Inc. has not taken into account the investment needs, objectives, and financial circumstances of any particular investor. Any views expressed and data illustrated herein were prepared based upon information, believed to be reliable, available to Quantopian, Inc. at the time of publication. Quantopian makes no guarantees as to their accuracy or completeness. All information is subject to change and may quickly become unreliable for various reasons, including changes in market conditions or economic circumstances.*"
      ]
    },
    {
      "cell_type": "code",
      "source": [],
      "metadata": {
        "id": "aG7cENNL8O1P"
      },
      "execution_count": null,
      "outputs": []
    }
  ],
  "metadata": {
    "kernelspec": {
      "display_name": "Python 2",
      "language": "python",
      "name": "python2"
    },
    "language_info": {
      "codemirror_mode": {
        "name": "ipython",
        "version": 2
      },
      "file_extension": ".py",
      "mimetype": "text/x-python",
      "name": "python",
      "nbconvert_exporter": "python",
      "pygments_lexer": "ipython2",
      "version": "2.7.12"
    },
    "colab": {
      "provenance": []
    }
  },
  "nbformat": 4,
  "nbformat_minor": 0
}