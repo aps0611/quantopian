{
  "cells": [
    {
      "cell_type": "markdown",
      "metadata": {
        "deletable": true,
        "editable": true,
        "id": "q1ZQEQx6_U5O"
      },
      "source": [
        "# Exercises: Maximum Likelihood Estimation - Answer Key\n",
        "By Christopher van Hoecke, Max Margenot, and Delaney Mackenzie\n",
        "\n",
        "## Lecture Link :\n",
        "https://www.quantopian.com/lectures/maximum-likelihood-estimation\n",
        "\n",
        "### IMPORTANT NOTE:\n",
        "This lecture corresponds to the Maximum Likelihood Estimation lecture, which is part of the Quantopian lecture series. This homework expects you to rely heavily on the code presented in the corresponding lecture. Please copy and paste regularly from that lecture when starting to work on the problems, as trying to do them from scratch will likely be too difficult.\n",
        "\n",
        "Part of the Quantopian Lecture Series:\n",
        "\n",
        "* [www.quantopian.com/lectures](https://www.quantopian.com/lectures)\n",
        "* [github.com/quantopian/research_public](https://github.com/quantopian/research_public)\n",
        "\n",
        "Notebook released under the Creative Commons Attribution 4.0 License.\n",
        "\n",
        "----"
      ]
    },
    {
      "cell_type": "markdown",
      "metadata": {
        "deletable": true,
        "editable": true,
        "id": "YzAEihMY_U5R"
      },
      "source": [
        "## Key Concepts\n",
        "Normal Distribution MLE Estimators:\n",
        "\n",
        "$$\n",
        "\\hat\\mu = \\frac{1}{T}\\sum_{t=1}^{T} x_t \\\\\\qquad \\hat\\sigma = \\sqrt{\\frac{1}{T}\\sum_{t=1}^{T}{(x_t - \\hat\\mu)^2}}\n",
        "$$\n",
        "\n",
        "\n",
        "\n",
        "Exponential Distribution MLE Estimators:\n",
        "$$\\hat\\lambda = \\frac{\\sum_{t=1}^{T} x_t}{T}$$"
      ]
    },
    {
      "cell_type": "code",
      "execution_count": 1,
      "metadata": {
        "collapsed": true,
        "deletable": true,
        "editable": true,
        "id": "Utk-QzRS_U5S",
        "colab": {
          "base_uri": "https://localhost:8080/"
        },
        "outputId": "ceac4cd0-45aa-427a-98bd-e25201dd261e"
      },
      "outputs": [
        {
          "output_type": "stream",
          "name": "stderr",
          "text": [
            "/usr/local/lib/python3.10/dist-packages/yfinance/base.py:48: FutureWarning: The default dtype for empty Series will be 'object' instead of 'float64' in a future version. Specify a dtype explicitly to silence this warning.\n",
            "  _empty_series = pd.Series()\n"
          ]
        }
      ],
      "source": [
        "# Useful Libraries\n",
        "import pandas as pd\n",
        "import math\n",
        "import matplotlib.pyplot as plt\n",
        "import numpy as np\n",
        "import scipy\n",
        "import scipy.stats as stats\n",
        "\n",
        "import yfinance as yf\n",
        "from datetime import datetime"
      ]
    },
    {
      "cell_type": "markdown",
      "metadata": {
        "deletable": true,
        "editable": true,
        "id": "_FNzGPFr_U5T"
      },
      "source": [
        "----"
      ]
    },
    {
      "cell_type": "markdown",
      "metadata": {
        "deletable": true,
        "editable": true,
        "id": "CdGzaoDq_U5T"
      },
      "source": [
        "# Exercise 1: Normal Distribution\n",
        "- Given the equations above, write down functions to calculate the MLE estimators $\\hat{\\mu}$ and $\\hat{\\sigma}$ of the normal distribution.\n",
        "- Given the sample normally distributed set, find the maximum likelihood $\\hat{\\mu}$ and $\\hat{\\sigma}$.\n",
        "- Fit the data to a normal distribution using SciPy. Compare SciPy's calculated parameters with your calculated values of $\\hat{\\mu}$ and $\\hat{\\sigma}$.\n",
        "- Plot a normal distribution PDF with your estimated parameters"
      ]
    },
    {
      "cell_type": "code",
      "execution_count": 2,
      "metadata": {
        "collapsed": true,
        "deletable": true,
        "editable": true,
        "id": "SIR-L6uB_U5T"
      },
      "outputs": [],
      "source": [
        "# Normal mean and standard deviation MLE estimators\n",
        "def normal_mu(X):\n",
        "    # Get the number of observations\n",
        "    T = len(X)\n",
        "    # Sum the observations\n",
        "    s = sum(X)\n",
        "    return 1.0/T * s\n",
        "\n",
        "def normal_sigma(X):\n",
        "    T = len(X)\n",
        "    # Get the mu MLE\n",
        "    mu = normal_mu(X)\n",
        "    # Sum the square of the differences\n",
        "    s = sum( np.power((X - mu), 2) )\n",
        "    # Compute sigma^2\n",
        "    sigma_squared = 1.0/T * s\n",
        "    return math.sqrt(sigma_squared)"
      ]
    },
    {
      "cell_type": "code",
      "execution_count": 5,
      "metadata": {
        "deletable": true,
        "editable": true,
        "id": "QHlMWY_A_U5U",
        "outputId": "dda8e4d2-8548-44b7-cf90-e489b021ae8b",
        "colab": {
          "base_uri": "https://localhost:8080/"
        }
      },
      "outputs": [
        {
          "output_type": "stream",
          "name": "stdout",
          "text": [
            "Maximum likelihood value of mu: 40.000780826491024\n",
            "Maximum likelihood value for sigma: 10.001536903160352\n"
          ]
        }
      ],
      "source": [
        "# Normal Distribution Sample Data\n",
        "TRUE_MEAN = 40\n",
        "TRUE_STD = 10\n",
        "X = np.random.normal(TRUE_MEAN, TRUE_STD, 10000000)\n",
        "\n",
        "# Use your functions to compute the MLE mu and sigma\n",
        "mu = normal_mu(X)\n",
        "std = normal_sigma(X)\n",
        "\n",
        "print( 'Maximum likelihood value of mu:', mu)\n",
        "print( 'Maximum likelihood value for sigma:', std)"
      ]
    },
    {
      "cell_type": "code",
      "execution_count": 6,
      "metadata": {
        "deletable": true,
        "editable": true,
        "id": "t6c40TlS_U5V",
        "outputId": "1e52be8e-2911-46a9-bf32-dba959b3a927",
        "colab": {
          "base_uri": "https://localhost:8080/"
        }
      },
      "outputs": [
        {
          "output_type": "stream",
          "name": "stdout",
          "text": [
            "Scipy Maximum likelihood value of mu: 40.00078082648984\n",
            "Scipy Maximum likelihood value for sigma: 10.001536903160687\n"
          ]
        }
      ],
      "source": [
        "# Fit the distribution using SciPy and compare those parameters with yours\n",
        "scipy_mu, scipy_std = scipy.stats.norm.fit(X)\n",
        "print( 'Scipy Maximum likelihood value of mu:', scipy_mu)\n",
        "print( 'Scipy Maximum likelihood value for sigma:', scipy_std)"
      ]
    },
    {
      "cell_type": "code",
      "execution_count": 8,
      "metadata": {
        "deletable": true,
        "editable": true,
        "id": "dem2q-vn_U5W",
        "outputId": "b93c51d5-6d26-4945-bd93-295f388fb166",
        "colab": {
          "base_uri": "https://localhost:8080/",
          "height": 449
        }
      },
      "outputs": [
        {
          "output_type": "display_data",
          "data": {
            "text/plain": [
              "<Figure size 640x480 with 1 Axes>"
            ],
            "image/png": "[encoded data removed]"
          },
          "metadata": {}
        }
      ],
      "source": [
        "# Get the PDF, fill it with your calculated parameters, and plot it along x\n",
        "x = np.linspace(0, 80, 80)\n",
        "\n",
        "plt.hist(X, bins=x, density='true')\n",
        "plt.plot(scipy.stats.norm.pdf(x, loc=mu, scale=std), color='red')\n",
        "plt.xlabel('Value')\n",
        "plt.ylabel('Observed Frequency')\n",
        "plt.legend(['Fitted Distribution PDF', 'Observed Data', ]);"
      ]
    },
    {
      "cell_type": "markdown",
      "metadata": {
        "deletable": true,
        "editable": true,
        "id": "_c9_Z47q_U5W"
      },
      "source": [
        "------"
      ]
    },
    {
      "cell_type": "markdown",
      "metadata": {
        "deletable": true,
        "editable": true,
        "id": "WqcWMZEJ_U5W"
      },
      "source": [
        "# Exercise 2: Exponential Distribution\n",
        "- Given the equations above, write down functions to calculate the MLE estimator $\\hat{\\lambda}$ of the exponential distribution\n",
        "- Given the sample exponentially distributed set, find the maximum likelihood\n",
        "- Fit the data to an exponential distribution using SciPy. Compare SciPy's calculated parameter with your calculated values of  $\\hat{\\lambda}$\n",
        "- Plot an exponential distribution PDF with your estimated parameter"
      ]
    },
    {
      "cell_type": "code",
      "execution_count": 9,
      "metadata": {
        "collapsed": true,
        "deletable": true,
        "editable": true,
        "id": "Kq8iPk2y_U5X"
      },
      "outputs": [],
      "source": [
        "# Exponential lambda MLE estimator\n",
        "def exp_lambda(X):\n",
        "    T = len(X)\n",
        "    s = sum(X)\n",
        "    return s/T"
      ]
    },
    {
      "cell_type": "code",
      "execution_count": 10,
      "metadata": {
        "deletable": true,
        "editable": true,
        "id": "vY7uGFE3_U5X",
        "outputId": "0c52ceb8-65fc-4b4d-f30f-7c17094659f2",
        "colab": {
          "base_uri": "https://localhost:8080/"
        }
      },
      "outputs": [
        {
          "output_type": "stream",
          "name": "stdout",
          "text": [
            "Lambda estimate:  4.977396408480933\n"
          ]
        }
      ],
      "source": [
        "# Exponential distribution sample data\n",
        "TRUE_LAMBDA = 5\n",
        "X = np.random.exponential(TRUE_LAMBDA, 1000)\n",
        "\n",
        "# Use your functions to compute the MLE lambda\n",
        "lam = exp_lambda(X)\n",
        "print( \"Lambda estimate: \", lam)"
      ]
    },
    {
      "cell_type": "code",
      "execution_count": 11,
      "metadata": {
        "deletable": true,
        "editable": true,
        "id": "nu6s8WZM_U5X",
        "outputId": "66d1884f-a546-4074-9037-92a24140f4ca",
        "colab": {
          "base_uri": "https://localhost:8080/"
        }
      },
      "outputs": [
        {
          "output_type": "stream",
          "name": "stdout",
          "text": [
            "Scipy lambds estimate:  4.96216889967174\n"
          ]
        }
      ],
      "source": [
        "# Fit the distribution using SciPy and compare that parameter with yours\n",
        "_, l = scipy.stats.expon.fit(X)\n",
        "print( 'Scipy lambds estimate: ', l)"
      ]
    },
    {
      "cell_type": "code",
      "execution_count": 13,
      "metadata": {
        "deletable": true,
        "editable": true,
        "id": "3HxuTI8r_U5X",
        "outputId": "751c75a9-7cc4-4dab-d321-3671fb189aef",
        "colab": {
          "base_uri": "https://localhost:8080/",
          "height": 449
        }
      },
      "outputs": [
        {
          "output_type": "display_data",
          "data": {
            "text/plain": [
              "<Figure size 640x480 with 1 Axes>"
            ],
            "image/png": "[encoded data removed]"
          },
          "metadata": {}
        }
      ],
      "source": [
        "# Get the PDF, fill it with your calculated parameter, and plot it along x\n",
        "x = range(0, 80)\n",
        "\n",
        "plt.hist(X, bins=x, density='true')\n",
        "plt.plot(scipy.stats.expon.pdf(x, scale=l), color = 'red')\n",
        "plt.xlabel('Value')\n",
        "plt.ylabel('Observed Frequency')\n",
        "plt.legend(['Fitted Distribution PDF', 'Observed Data', ]);"
      ]
    },
    {
      "cell_type": "markdown",
      "metadata": {
        "deletable": true,
        "editable": true,
        "id": "4etzoPcH_U5Y"
      },
      "source": [
        "----"
      ]
    },
    {
      "cell_type": "markdown",
      "metadata": {
        "deletable": true,
        "editable": true,
        "id": "jqRmhlQd_U5Y"
      },
      "source": [
        "# Exercise 3 : Fitting Data Using MLE\n",
        "- Using the MLE estimators laid out in the lecture, fit the returns for SPY from 2014 to 2015 to a normal distribution.   \n",
        "- Check for normality using the Jarque-Bera test"
      ]
    },
    {
      "cell_type": "code",
      "execution_count": 19,
      "metadata": {
        "collapsed": true,
        "deletable": true,
        "editable": true,
        "id": "Jifl0jWE_U5Y",
        "colab": {
          "base_uri": "https://localhost:8080/"
        },
        "outputId": "247bf9e6-9581-4431-9a1b-541ae9985f58"
      },
      "outputs": [
        {
          "output_type": "stream",
          "name": "stderr",
          "text": [
            "\r[*********************100%%**********************]  1 of 1 completed\n",
            "ERROR:yfinance:\n",
            "1 Failed download:\n",
            "ERROR:yfinance:['SPY']: Exception('%ticker%: 1m data not available for startTime=1704085200 and endTime=1704171600. The requested range must be within the last 30 days.')\n"
          ]
        }
      ],
      "source": [
        "start = datetime(2024,1,1)\n",
        "end = datetime(2024,1,2)\n",
        "\n",
        "\n",
        "prices = yf.download('SPY',\n",
        "                     start=start,\n",
        "                     end=end,\n",
        "                     interval='1m',\n",
        "                     )['Close']\n",
        "returns = prices.pct_change()[1:]"
      ]
    },
    {
      "cell_type": "code",
      "execution_count": 20,
      "metadata": {
        "deletable": true,
        "editable": true,
        "id": "QpRt8JyU_U5Y",
        "outputId": "eedb3ffd-cd31-4352-d2e5-0be64459a657",
        "colab": {
          "base_uri": "https://localhost:8080/",
          "height": 366
        }
      },
      "outputs": [
        {
          "output_type": "error",
          "ename": "ZeroDivisionError",
          "evalue": "float division by zero",
          "traceback": [
            "\u001b[0;31m---------------------------------------------------------------------------\u001b[0m",
            "\u001b[0;31mZeroDivisionError\u001b[0m                         Traceback (most recent call last)",
            "\u001b[0;32m<ipython-input-20-8834b7b7f8e9>\u001b[0m in \u001b[0;36m<cell line: 1>\u001b[0;34m()\u001b[0m\n\u001b[0;32m----> 1\u001b[0;31m \u001b[0mmu\u001b[0m \u001b[0;34m=\u001b[0m \u001b[0mnormal_mu\u001b[0m\u001b[0;34m(\u001b[0m\u001b[0mreturns\u001b[0m\u001b[0;34m)\u001b[0m\u001b[0;34m\u001b[0m\u001b[0;34m\u001b[0m\u001b[0m\n\u001b[0m\u001b[1;32m      2\u001b[0m \u001b[0mstd\u001b[0m \u001b[0;34m=\u001b[0m \u001b[0mnormal_sigma\u001b[0m\u001b[0;34m(\u001b[0m\u001b[0mreturns\u001b[0m\u001b[0;34m)\u001b[0m\u001b[0;34m\u001b[0m\u001b[0;34m\u001b[0m\u001b[0m\n\u001b[1;32m      3\u001b[0m \u001b[0;34m\u001b[0m\u001b[0m\n\u001b[1;32m      4\u001b[0m \u001b[0mx\u001b[0m \u001b[0;34m=\u001b[0m \u001b[0mnp\u001b[0m\u001b[0;34m.\u001b[0m\u001b[0mlinspace\u001b[0m\u001b[0;34m(\u001b[0m\u001b[0mreturns\u001b[0m\u001b[0;34m.\u001b[0m\u001b[0mmin\u001b[0m\u001b[0;34m(\u001b[0m\u001b[0;34m)\u001b[0m\u001b[0;34m,\u001b[0m \u001b[0mreturns\u001b[0m\u001b[0;34m.\u001b[0m\u001b[0mmax\u001b[0m\u001b[0;34m(\u001b[0m\u001b[0;34m)\u001b[0m\u001b[0;34m,\u001b[0m \u001b[0mnum\u001b[0m\u001b[0;34m=\u001b[0m\u001b[0;36m1000\u001b[0m\u001b[0;34m)\u001b[0m\u001b[0;34m\u001b[0m\u001b[0;34m\u001b[0m\u001b[0m\n\u001b[1;32m      5\u001b[0m \u001b[0mh\u001b[0m \u001b[0;34m=\u001b[0m \u001b[0mplt\u001b[0m\u001b[0;34m.\u001b[0m\u001b[0mhist\u001b[0m\u001b[0;34m(\u001b[0m\u001b[0mreturns\u001b[0m\u001b[0;34m,\u001b[0m \u001b[0mbins\u001b[0m\u001b[0;34m=\u001b[0m\u001b[0;36m50\u001b[0m\u001b[0;34m,\u001b[0m \u001b[0mnormed\u001b[0m\u001b[0;34m=\u001b[0m\u001b[0;34m'true'\u001b[0m\u001b[0;34m)\u001b[0m\u001b[0;34m\u001b[0m\u001b[0;34m\u001b[0m\u001b[0m\n",
            "\u001b[0;32m<ipython-input-2-c0a5d569f3dc>\u001b[0m in \u001b[0;36mnormal_mu\u001b[0;34m(X)\u001b[0m\n\u001b[1;32m      5\u001b[0m     \u001b[0;31m# Sum the observations\u001b[0m\u001b[0;34m\u001b[0m\u001b[0;34m\u001b[0m\u001b[0m\n\u001b[1;32m      6\u001b[0m     \u001b[0ms\u001b[0m \u001b[0;34m=\u001b[0m \u001b[0msum\u001b[0m\u001b[0;34m(\u001b[0m\u001b[0mX\u001b[0m\u001b[0;34m)\u001b[0m\u001b[0;34m\u001b[0m\u001b[0;34m\u001b[0m\u001b[0m\n\u001b[0;32m----> 7\u001b[0;31m     \u001b[0;32mreturn\u001b[0m \u001b[0;36m1.0\u001b[0m\u001b[0;34m/\u001b[0m\u001b[0mT\u001b[0m \u001b[0;34m*\u001b[0m \u001b[0ms\u001b[0m\u001b[0;34m\u001b[0m\u001b[0;34m\u001b[0m\u001b[0m\n\u001b[0m\u001b[1;32m      8\u001b[0m \u001b[0;34m\u001b[0m\u001b[0m\n\u001b[1;32m      9\u001b[0m \u001b[0;32mdef\u001b[0m \u001b[0mnormal_sigma\u001b[0m\u001b[0;34m(\u001b[0m\u001b[0mX\u001b[0m\u001b[0;34m)\u001b[0m\u001b[0;34m:\u001b[0m\u001b[0;34m\u001b[0m\u001b[0;34m\u001b[0m\u001b[0m\n",
            "\u001b[0;31mZeroDivisionError\u001b[0m: float division by zero"
          ]
        }
      ],
      "source": [
        "mu = normal_mu(returns)\n",
        "std = normal_sigma(returns)\n",
        "\n",
        "x = np.linspace(returns.min(), returns.max(), num=1000)\n",
        "h = plt.hist(returns, bins=50, normed='true')\n",
        "l = plt.plot(x, scipy.stats.norm.pdf(x, loc=mu, scale=std), color = 'red')\n",
        "plt.show(h, l);"
      ]
    },
    {
      "cell_type": "markdown",
      "metadata": {
        "deletable": true,
        "editable": true,
        "id": "btPtUfjU_U5Z"
      },
      "source": [
        "Recall that this fit **only** makes sense **if** we have normally distributed data."
      ]
    },
    {
      "cell_type": "code",
      "execution_count": 21,
      "metadata": {
        "deletable": true,
        "editable": true,
        "id": "KEz3-_fg_U5Z",
        "outputId": "d7dcc88f-558b-4589-a12e-ac2d8f64792a",
        "colab": {
          "base_uri": "https://localhost:8080/",
          "height": 460
        }
      },
      "outputs": [
        {
          "output_type": "stream",
          "name": "stderr",
          "text": [
            "/usr/local/lib/python3.10/dist-packages/numpy/ma/core.py:5288: RuntimeWarning: Mean of empty slice.\n",
            "  result = super().mean(axis=axis, dtype=dtype, **kwargs)[()]\n",
            "/usr/local/lib/python3.10/dist-packages/numpy/core/_methods.py:182: RuntimeWarning: invalid value encountered in divide\n",
            "  ret = um.true_divide(\n"
          ]
        },
        {
          "output_type": "error",
          "ename": "ValueError",
          "evalue": "skewtest is not valid with less than 8 samples; 0 samples were given.",
          "traceback": [
            "\u001b[0;31m---------------------------------------------------------------------------\u001b[0m",
            "\u001b[0;31mValueError\u001b[0m                                Traceback (most recent call last)",
            "\u001b[0;32m<ipython-input-21-a8367efea022>\u001b[0m in \u001b[0;36m<cell line: 2>\u001b[0;34m()\u001b[0m\n\u001b[1;32m      1\u001b[0m \u001b[0malpha\u001b[0m \u001b[0;34m=\u001b[0m \u001b[0;36m0.05\u001b[0m\u001b[0;34m\u001b[0m\u001b[0;34m\u001b[0m\u001b[0m\n\u001b[0;32m----> 2\u001b[0;31m \u001b[0mstat\u001b[0m\u001b[0;34m,\u001b[0m \u001b[0mpval\u001b[0m \u001b[0;34m=\u001b[0m \u001b[0mscipy\u001b[0m\u001b[0;34m.\u001b[0m\u001b[0mstats\u001b[0m\u001b[0;34m.\u001b[0m\u001b[0mmstats\u001b[0m\u001b[0;34m.\u001b[0m\u001b[0mnormaltest\u001b[0m\u001b[0;34m(\u001b[0m\u001b[0mreturns\u001b[0m\u001b[0;34m)\u001b[0m\u001b[0;34m\u001b[0m\u001b[0;34m\u001b[0m\u001b[0m\n\u001b[0m\u001b[1;32m      3\u001b[0m \u001b[0mprint\u001b[0m\u001b[0;34m(\u001b[0m \u001b[0mpval\u001b[0m\u001b[0;34m)\u001b[0m\u001b[0;34m\u001b[0m\u001b[0;34m\u001b[0m\u001b[0m\n\u001b[1;32m      4\u001b[0m \u001b[0;34m\u001b[0m\u001b[0m\n\u001b[1;32m      5\u001b[0m \u001b[0;32mif\u001b[0m \u001b[0mpval\u001b[0m \u001b[0;34m>\u001b[0m \u001b[0malpha\u001b[0m\u001b[0;34m:\u001b[0m\u001b[0;34m\u001b[0m\u001b[0;34m\u001b[0m\u001b[0m\n",
            "\u001b[0;32m/usr/local/lib/python3.10/dist-packages/scipy/stats/_mstats_basic.py\u001b[0m in \u001b[0;36mnormaltest\u001b[0;34m(a, axis)\u001b[0m\n\u001b[1;32m   3065\u001b[0m     \"\"\"\n\u001b[1;32m   3066\u001b[0m     \u001b[0ma\u001b[0m\u001b[0;34m,\u001b[0m \u001b[0maxis\u001b[0m \u001b[0;34m=\u001b[0m \u001b[0m_chk_asarray\u001b[0m\u001b[0;34m(\u001b[0m\u001b[0ma\u001b[0m\u001b[0;34m,\u001b[0m \u001b[0maxis\u001b[0m\u001b[0;34m)\u001b[0m\u001b[0;34m\u001b[0m\u001b[0;34m\u001b[0m\u001b[0m\n\u001b[0;32m-> 3067\u001b[0;31m     \u001b[0ms\u001b[0m\u001b[0;34m,\u001b[0m \u001b[0m_\u001b[0m \u001b[0;34m=\u001b[0m \u001b[0mskewtest\u001b[0m\u001b[0;34m(\u001b[0m\u001b[0ma\u001b[0m\u001b[0;34m,\u001b[0m \u001b[0maxis\u001b[0m\u001b[0;34m)\u001b[0m\u001b[0;34m\u001b[0m\u001b[0;34m\u001b[0m\u001b[0m\n\u001b[0m\u001b[1;32m   3068\u001b[0m     \u001b[0mk\u001b[0m\u001b[0;34m,\u001b[0m \u001b[0m_\u001b[0m \u001b[0;34m=\u001b[0m \u001b[0mkurtosistest\u001b[0m\u001b[0;34m(\u001b[0m\u001b[0ma\u001b[0m\u001b[0;34m,\u001b[0m \u001b[0maxis\u001b[0m\u001b[0;34m)\u001b[0m\u001b[0;34m\u001b[0m\u001b[0;34m\u001b[0m\u001b[0m\n\u001b[1;32m   3069\u001b[0m     \u001b[0mk2\u001b[0m \u001b[0;34m=\u001b[0m \u001b[0ms\u001b[0m\u001b[0;34m*\u001b[0m\u001b[0ms\u001b[0m \u001b[0;34m+\u001b[0m \u001b[0mk\u001b[0m\u001b[0;34m*\u001b[0m\u001b[0mk\u001b[0m\u001b[0;34m\u001b[0m\u001b[0;34m\u001b[0m\u001b[0m\n",
            "\u001b[0;32m/usr/local/lib/python3.10/dist-packages/scipy/stats/_mstats_basic.py\u001b[0m in \u001b[0;36mskewtest\u001b[0;34m(a, axis, alternative)\u001b[0m\n\u001b[1;32m   2947\u001b[0m     \u001b[0mn\u001b[0m \u001b[0;34m=\u001b[0m \u001b[0ma\u001b[0m\u001b[0;34m.\u001b[0m\u001b[0mcount\u001b[0m\u001b[0;34m(\u001b[0m\u001b[0maxis\u001b[0m\u001b[0;34m)\u001b[0m\u001b[0;34m\u001b[0m\u001b[0;34m\u001b[0m\u001b[0m\n\u001b[1;32m   2948\u001b[0m     \u001b[0;32mif\u001b[0m \u001b[0mnp\u001b[0m\u001b[0;34m.\u001b[0m\u001b[0mmin\u001b[0m\u001b[0;34m(\u001b[0m\u001b[0mn\u001b[0m\u001b[0;34m)\u001b[0m \u001b[0;34m<\u001b[0m \u001b[0;36m8\u001b[0m\u001b[0;34m:\u001b[0m\u001b[0;34m\u001b[0m\u001b[0;34m\u001b[0m\u001b[0m\n\u001b[0;32m-> 2949\u001b[0;31m         raise ValueError(\n\u001b[0m\u001b[1;32m   2950\u001b[0m             \u001b[0;34m\"skewtest is not valid with less than 8 samples; %i samples\"\u001b[0m\u001b[0;34m\u001b[0m\u001b[0;34m\u001b[0m\u001b[0m\n\u001b[1;32m   2951\u001b[0m             \" were given.\" % np.min(n))\n",
            "\u001b[0;31mValueError\u001b[0m: skewtest is not valid with less than 8 samples; 0 samples were given."
          ]
        }
      ],
      "source": [
        "alpha = 0.05\n",
        "stat, pval = scipy.stats.mstats.normaltest(returns)\n",
        "print( pval)\n",
        "\n",
        "if pval > alpha:\n",
        "    print( 'Accept our null hypothesis')\n",
        "if pval < alpha:\n",
        "    print( 'Reject our null hypothesis')"
      ]
    },
    {
      "cell_type": "markdown",
      "metadata": {
        "deletable": true,
        "editable": true,
        "id": "WOl1a4_g_U5Z"
      },
      "source": [
        "---\n",
        "\n",
        "Congratulations on completing the Maximum Likelihood Estimation exercises!\n",
        "\n",
        "As you learn more about writing trading models and the Quantopian platform, enter the daily [Quantopian Contest](https://www.quantopian.com/contest). Your strategy will be evaluated for a cash prize every day.\n",
        "\n",
        "Start by going through the [Writing a Contest Algorithm](https://www.quantopian.com/tutorials/contest) tutorial."
      ]
    },
    {
      "cell_type": "markdown",
      "metadata": {
        "deletable": true,
        "editable": true,
        "id": "v6uaRESV_U5Z"
      },
      "source": [
        "*This presentation is for informational purposes only and does not constitute an offer to sell, a solicitation to buy, or a recommendation for any security; nor does it constitute an offer to provide investment advisory or other services by Quantopian, Inc. (\"Quantopian\"). Nothing contained herein constitutes investment advice or offers any opinion with respect to the suitability of any security, and any views expressed herein should not be taken as advice to buy, sell, or hold any security or as an endorsement of any security or company.  In preparing the information contained herein, Quantopian, Inc. has not taken into account the investment needs, objectives, and financial circumstances of any particular investor. Any views expressed and data illustrated herein were prepared based upon information, believed to be reliable, available to Quantopian, Inc. at the time of publication. Quantopian makes no guarantees as to their accuracy or completeness. All information is subject to change and may quickly become unreliable for various reasons, including changes in market conditions or economic circumstances.*"
      ]
    }
  ],
  "metadata": {
    "kernelspec": {
      "display_name": "Python 2",
      "language": "python",
      "name": "python2"
    },
    "language_info": {
      "codemirror_mode": {
        "name": "ipython",
        "version": 2
      },
      "file_extension": ".py",
      "mimetype": "text/x-python",
      "name": "python",
      "nbconvert_exporter": "python",
      "pygments_lexer": "ipython2",
      "version": "2.7.12"
    },
    "colab": {
      "provenance": []
    }
  },
  "nbformat": 4,
  "nbformat_minor": 0
}