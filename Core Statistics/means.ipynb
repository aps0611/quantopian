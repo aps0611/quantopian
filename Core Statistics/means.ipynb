{
  "cells": [
    {
      "cell_type": "markdown",
      "metadata": {
        "id": "j836PeE8zaoi"
      },
      "source": [
        "# Measures of Central Tendency\n",
        "By Evgenia \"Jenny\" Nitishinskaya, Maxwell Margenot, and Delaney Mackenzie.\n",
        "\n",
        "Part of the Quantopian Lecture Series:\n",
        "\n",
        "* [www.quantopian.com/lectures](https://www.quantopian.com/lectures)\n",
        "* [github.com/quantopian/research_public](https://github.com/quantopian/research_public)\n",
        "\n",
        "\n",
        "---\n",
        "\n",
        "In this notebook we will discuss ways to summarize a set of data using a single number. The goal is to capture information about the distribution of data.\n",
        "\n",
        "# Arithmetic mean\n",
        "\n",
        "The arithmetic mean is used very frequently to summarize numerical data, and is usually the one assumed to be meant by the word \"average.\" It is defined as the sum of the observations divided by the number of observations:\n",
        "$$\\mu = \\frac{\\sum_{i=1}^N X_i}{N}$$\n",
        "\n",
        "where $X_1, X_2, \\ldots , X_N$ are our observations."
      ]
    },
    {
      "cell_type": "code",
      "execution_count": 2,
      "metadata": {
        "id": "15MTsosezaor",
        "outputId": "c1ae80ef-a588-4a01-da1c-72c8434fffe6",
        "colab": {
          "base_uri": "https://localhost:8080/"
        }
      },
      "outputs": [
        {
          "output_type": "stream",
          "name": "stdout",
          "text": [
            "Mean of x1: 29 / 8 = 3.625\n",
            "Mean of x2: 129 / 9 = 14.333333333333334\n"
          ]
        }
      ],
      "source": [
        "# Two useful statistical libraries\n",
        "import scipy.stats as stats\n",
        "import numpy as np\n",
        "\n",
        "# We'll use these two data sets as examples\n",
        "x1 = [1, 2, 2, 3, 4, 5, 5, 7]\n",
        "x2 = x1 + [100]\n",
        "\n",
        "print('Mean of x1:', sum(x1), '/', len(x1), '=', np.mean(x1))\n",
        "print('Mean of x2:', sum(x2), '/', len(x2), '=', np.mean(x2))"
      ]
    },
    {
      "cell_type": "markdown",
      "metadata": {
        "id": "N2BUjJy_zaou"
      },
      "source": [
        "We can also define a <i>weighted</i> arithmetic mean, which is useful for explicitly specifying the number of times each observation should be counted. For instance, in computing the average value of a portfolio, it is more convenient to say that 70% of your stocks are of type X rather than making a list of every share you hold.\n",
        "\n",
        "The weighted arithmetic mean is defined as\n",
        "$$\\sum_{i=1}^n w_i X_i $$\n",
        "\n",
        "where $\\sum_{i=1}^n w_i = 1$. In the usual arithmetic mean, we have $w_i = 1/n$ for all $i$."
      ]
    },
    {
      "cell_type": "markdown",
      "metadata": {
        "collapsed": true,
        "id": "Dvh_aHlIzaov"
      },
      "source": [
        "# Median\n",
        "\n",
        "The median of a set of data is the number which appears in the middle of the list when it is sorted in increasing or decreasing order. When we have an odd number $n$ of data points, this is simply the value in position $(n+1)/2$. When we have an even number of data points, the list splits in half and there is no item in the middle; so we define the median as the average of the values in positions $n/2$ and $(n+2)/2$.\n",
        "\n",
        "The median is less affected by extreme values in the data than the arithmetic mean. It tells us the value that splits the data set in half, but not how much smaller or larger the other values are."
      ]
    },
    {
      "cell_type": "code",
      "execution_count": 4,
      "metadata": {
        "id": "amk9WkSRzaow",
        "outputId": "332ae761-f2a4-4e30-d12b-7b0741f43db1",
        "colab": {
          "base_uri": "https://localhost:8080/"
        }
      },
      "outputs": [
        {
          "output_type": "stream",
          "name": "stdout",
          "text": [
            "Median of x1: 3.5\n",
            "Median of x2: 4.0\n"
          ]
        }
      ],
      "source": [
        "print('Median of x1:', np.median(x1))\n",
        "print('Median of x2:', np.median(x2))"
      ]
    },
    {
      "cell_type": "markdown",
      "metadata": {
        "id": "Rd6WBRhJzaox"
      },
      "source": [
        "# Mode\n",
        "\n",
        "The mode is the most frequently occuring value in a data set. It can be applied to non-numerical data, unlike the mean and the median. One situation in which it is useful is for data whose possible values are independent. For example, in the outcomes of a weighted die, coming up 6 often does not mean it is likely to come up 5; so knowing that the data set has a mode of 6 is more useful than knowing it has a mean of 4.5."
      ]
    },
    {
      "cell_type": "code",
      "execution_count": 6,
      "metadata": {
        "id": "v0iwxax7zaoy",
        "outputId": "47063da4-0639-42b2-d151-7fb4b4ce2a79",
        "colab": {
          "base_uri": "https://localhost:8080/"
        }
      },
      "outputs": [
        {
          "output_type": "stream",
          "name": "stdout",
          "text": [
            "One mode of x1: 2\n",
            "All of the modes of x1: [2, 5]\n"
          ]
        }
      ],
      "source": [
        "# Scipy has a built-in mode function, but it will return exactly one value\n",
        "# even if two values occur the same number of times, or if no value appears more than once\n",
        "print('One mode of x1:', stats.mode(x1)[0])\n",
        "\n",
        "# So we will write our own\n",
        "def mode(l):\n",
        "    # Count the number of times each element appears in the list\n",
        "    counts = {}\n",
        "    for e in l:\n",
        "        if e in counts:\n",
        "            counts[e] += 1\n",
        "        else:\n",
        "            counts[e] = 1\n",
        "\n",
        "    # Return the elements that appear the most times\n",
        "    maxcount = 0\n",
        "    modes = {}\n",
        "    for (key, value) in counts.items():\n",
        "        if value > maxcount:\n",
        "            maxcount = value\n",
        "            modes = {key}\n",
        "        elif value == maxcount:\n",
        "            modes.add(key)\n",
        "\n",
        "    if maxcount > 1 or len(l) == 1:\n",
        "        return list(modes)\n",
        "    return 'No mode'\n",
        "\n",
        "print('All of the modes of x1:', mode(x1))"
      ]
    },
    {
      "cell_type": "markdown",
      "metadata": {
        "id": "urn2f_USzaoz"
      },
      "source": [
        "For data that can take on many different values, such as returns data, there may not be any values that appear more than once. In this case we can bin values, like we do when constructing a histogram, and then find the mode of the data set where each value is replaced with the name of its bin. That is, we find which bin elements fall into most often."
      ]
    },
    {
      "cell_type": "code",
      "execution_count": 14,
      "metadata": {
        "id": "9vNsLjQTzao0",
        "outputId": "057e999c-bad2-45ce-f187-ba9e40900cfe",
        "colab": {
          "base_uri": "https://localhost:8080/"
        }
      },
      "outputs": [
        {
          "output_type": "stream",
          "name": "stderr",
          "text": [
            "\r[*********************100%%**********************]  1 of 1 completed"
          ]
        },
        {
          "output_type": "stream",
          "name": "stdout",
          "text": [
            "Mode of returns: No mode\n",
            "Mode of bins: [(-0.0012499981123169877, 0.0011117022955209332)]\n"
          ]
        },
        {
          "output_type": "stream",
          "name": "stderr",
          "text": [
            "\n"
          ]
        }
      ],
      "source": [
        "# Get return data for an asset and compute the mode of the data set\n",
        "import yfinance as yf\n",
        "import datetime\n",
        "\n",
        "start = datetime.datetime(2014,1,1)\n",
        "end = datetime.datetime(2015,1,1)\n",
        "pricing = yf.download('SPY', start=start, end=end)\n",
        "pricing = pricing['Close']\n",
        "returns = pricing.pct_change()[1:]\n",
        "print('Mode of returns:', mode(returns))\n",
        "\n",
        "# Since all of the returns are distinct, we use a frequency distribution to get an alternative mode.\n",
        "# np.histogram returns the frequency distribution over the bins as well as the endpoints of the bins\n",
        "hist, bins = np.histogram(returns, 20) # Break data up into 20 bins\n",
        "maxfreq = max(hist)\n",
        "# Find all of the bins that are hit with frequency maxfreq, then print the intervals corresponding to them\n",
        "print('Mode of bins:', [(bins[i], bins[i+1]) for i, j in enumerate(hist) if j == maxfreq])"
      ]
    },
    {
      "cell_type": "code",
      "source": [
        "pricing"
      ],
      "metadata": {
        "colab": {
          "base_uri": "https://localhost:8080/",
          "height": 455
        },
        "id": "hePLtNx65AnE",
        "outputId": "ae1058c8-d511-4ff8-d0bd-2c41ebe08742"
      },
      "execution_count": 13,
      "outputs": [
        {
          "output_type": "execute_result",
          "data": {
            "text/plain": [
              "                  Open        High         Low       Close   Adj Close  \\\n",
              "Date                                                                     \n",
              "2014-01-02  183.979996  184.070007  182.479996  182.919998  152.669128   \n",
              "2014-01-03  183.229996  183.600006  182.630005  182.889999  152.644119   \n",
              "2014-01-06  183.490005  183.559998  182.080002  182.360001  152.201752   \n",
              "2014-01-07  183.089996  183.789993  182.949997  183.479996  153.136505   \n",
              "2014-01-08  183.449997  183.830002  182.889999  183.520004  153.169907   \n",
              "...                ...         ...         ...         ...         ...   \n",
              "2014-12-24  208.020004  208.339996  207.720001  207.770004  176.797943   \n",
              "2014-12-26  208.309998  208.850006  208.250000  208.440002  177.368057   \n",
              "2014-12-29  208.220001  208.970001  208.139999  208.720001  177.606369   \n",
              "2014-12-30  208.210007  208.369995  207.509995  207.600006  176.653336   \n",
              "2014-12-31  207.990005  208.190002  205.389999  205.539993  174.900406   \n",
              "\n",
              "               Volume  \n",
              "Date                   \n",
              "2014-01-02  119636900  \n",
              "2014-01-03   81390600  \n",
              "2014-01-06  108028200  \n",
              "2014-01-07   86144200  \n",
              "2014-01-08   96582300  \n",
              "...               ...  \n",
              "2014-12-24   42963400  \n",
              "2014-12-26   57326700  \n",
              "2014-12-29   79643900  \n",
              "2014-12-30   73540800  \n",
              "2014-12-31  130333800  \n",
              "\n",
              "[252 rows x 6 columns]"
            ],
            "text/html": [
              "\n",
              "  <div id=\"df-dd135cbb-400e-4eaf-9198-7358b9c1e075\" class=\"colab-df-container\">\n",
              "    <div>\n",
              "<style scoped>\n",
              "    .dataframe tbody tr th:only-of-type {\n",
              "        vertical-align: middle;\n",
              "    }\n",
              "\n",
              "    .dataframe tbody tr th {\n",
              "        vertical-align: top;\n",
              "    }\n",
              "\n",
              "    .dataframe thead th {\n",
              "        text-align: right;\n",
              "    }\n",
              "</style>\n",
              "<table border=\"1\" class=\"dataframe\">\n",
              "  <thead>\n",
              "    <tr style=\"text-align: right;\">\n",
              "      <th></th>\n",
              "      <th>Open</th>\n",
              "      <th>High</th>\n",
              "      <th>Low</th>\n",
              "      <th>Close</th>\n",
              "      <th>Adj Close</th>\n",
              "      <th>Volume</th>\n",
              "    </tr>\n",
              "    <tr>\n",
              "      <th>Date</th>\n",
              "      <th></th>\n",
              "      <th></th>\n",
              "      <th></th>\n",
              "      <th></th>\n",
              "      <th></th>\n",
              "      <th></th>\n",
              "    </tr>\n",
              "  </thead>\n",
              "  <tbody>\n",
              "    <tr>\n",
              "      <th>2014-01-02</th>\n",
              "      <td>183.979996</td>\n",
              "      <td>184.070007</td>\n",
              "      <td>182.479996</td>\n",
              "      <td>182.919998</td>\n",
              "      <td>152.669128</td>\n",
              "      <td>119636900</td>\n",
              "    </tr>\n",
              "    <tr>\n",
              "      <th>2014-01-03</th>\n",
              "      <td>183.229996</td>\n",
              "      <td>183.600006</td>\n",
              "      <td>182.630005</td>\n",
              "      <td>182.889999</td>\n",
              "      <td>152.644119</td>\n",
              "      <td>81390600</td>\n",
              "    </tr>\n",
              "    <tr>\n",
              "      <th>2014-01-06</th>\n",
              "      <td>183.490005</td>\n",
              "      <td>183.559998</td>\n",
              "      <td>182.080002</td>\n",
              "      <td>182.360001</td>\n",
              "      <td>152.201752</td>\n",
              "      <td>108028200</td>\n",
              "    </tr>\n",
              "    <tr>\n",
              "      <th>2014-01-07</th>\n",
              "      <td>183.089996</td>\n",
              "      <td>183.789993</td>\n",
              "      <td>182.949997</td>\n",
              "      <td>183.479996</td>\n",
              "      <td>153.136505</td>\n",
              "      <td>86144200</td>\n",
              "    </tr>\n",
              "    <tr>\n",
              "      <th>2014-01-08</th>\n",
              "      <td>183.449997</td>\n",
              "      <td>183.830002</td>\n",
              "      <td>182.889999</td>\n",
              "      <td>183.520004</td>\n",
              "      <td>153.169907</td>\n",
              "      <td>96582300</td>\n",
              "    </tr>\n",
              "    <tr>\n",
              "      <th>...</th>\n",
              "      <td>...</td>\n",
              "      <td>...</td>\n",
              "      <td>...</td>\n",
              "      <td>...</td>\n",
              "      <td>...</td>\n",
              "      <td>...</td>\n",
              "    </tr>\n",
              "    <tr>\n",
              "      <th>2014-12-24</th>\n",
              "      <td>208.020004</td>\n",
              "      <td>208.339996</td>\n",
              "      <td>207.720001</td>\n",
              "      <td>207.770004</td>\n",
              "      <td>176.797943</td>\n",
              "      <td>42963400</td>\n",
              "    </tr>\n",
              "    <tr>\n",
              "      <th>2014-12-26</th>\n",
              "      <td>208.309998</td>\n",
              "      <td>208.850006</td>\n",
              "      <td>208.250000</td>\n",
              "      <td>208.440002</td>\n",
              "      <td>177.368057</td>\n",
              "      <td>57326700</td>\n",
              "    </tr>\n",
              "    <tr>\n",
              "      <th>2014-12-29</th>\n",
              "      <td>208.220001</td>\n",
              "      <td>208.970001</td>\n",
              "      <td>208.139999</td>\n",
              "      <td>208.720001</td>\n",
              "      <td>177.606369</td>\n",
              "      <td>79643900</td>\n",
              "    </tr>\n",
              "    <tr>\n",
              "      <th>2014-12-30</th>\n",
              "      <td>208.210007</td>\n",
              "      <td>208.369995</td>\n",
              "      <td>207.509995</td>\n",
              "      <td>207.600006</td>\n",
              "      <td>176.653336</td>\n",
              "      <td>73540800</td>\n",
              "    </tr>\n",
              "    <tr>\n",
              "      <th>2014-12-31</th>\n",
              "      <td>207.990005</td>\n",
              "      <td>208.190002</td>\n",
              "      <td>205.389999</td>\n",
              "      <td>205.539993</td>\n",
              "      <td>174.900406</td>\n",
              "      <td>130333800</td>\n",
              "    </tr>\n",
              "  </tbody>\n",
              "</table>\n",
              "<p>252 rows × 6 columns</p>\n",
              "</div>\n",
              "    <div class=\"colab-df-buttons\">\n",
              "\n",
              "  <div class=\"colab-df-container\">\n",
              "    <button class=\"colab-df-convert\" onclick=\"convertToInteractive('df-dd135cbb-400e-4eaf-9198-7358b9c1e075')\"\n",
              "            title=\"Convert this dataframe to an interactive table.\"\n",
              "            style=\"display:none;\">\n",
              "\n",
              "  <svg xmlns=\"http://www.w3.org/2000/svg\" height=\"24px\" viewBox=\"0 -960 960 960\">\n",
              "    <path d=\"M120-120v-720h720v720H120Zm60-500h600v-160H180v160Zm220 220h160v-160H400v160Zm0 220h160v-160H400v160ZM180-400h160v-160H180v160Zm440 0h160v-160H620v160ZM180-180h160v-160H180v160Zm440 0h160v-160H620v160Z\"/>\n",
              "  </svg>\n",
              "    </button>\n",
              "\n",
              "  <style>\n",
              "    .colab-df-container {\n",
              "      display:flex;\n",
              "      gap: 12px;\n",
              "    }\n",
              "\n",
              "    .colab-df-convert {\n",
              "      background-color: #E8F0FE;\n",
              "      border: none;\n",
              "      border-radius: 50%;\n",
              "      cursor: pointer;\n",
              "      display: none;\n",
              "      fill: #1967D2;\n",
              "      height: 32px;\n",
              "      padding: 0 0 0 0;\n",
              "      width: 32px;\n",
              "    }\n",
              "\n",
              "    .colab-df-convert:hover {\n",
              "      background-color: #E2EBFA;\n",
              "      box-shadow: 0px 1px 2px rgba(60, 64, 67, 0.3), 0px 1px 3px 1px rgba(60, 64, 67, 0.15);\n",
              "      fill: #174EA6;\n",
              "    }\n",
              "\n",
              "    .colab-df-buttons div {\n",
              "      margin-bottom: 4px;\n",
              "    }\n",
              "\n",
              "    [theme=dark] .colab-df-convert {\n",
              "      background-color: #3B4455;\n",
              "      fill: #D2E3FC;\n",
              "    }\n",
              "\n",
              "    [theme=dark] .colab-df-convert:hover {\n",
              "      background-color: #434B5C;\n",
              "      box-shadow: 0px 1px 3px 1px rgba(0, 0, 0, 0.15);\n",
              "      filter: drop-shadow(0px 1px 2px rgba(0, 0, 0, 0.3));\n",
              "      fill: #FFFFFF;\n",
              "    }\n",
              "  </style>\n",
              "\n",
              "    <script>\n",
              "      const buttonEl =\n",
              "        document.querySelector('#df-dd135cbb-400e-4eaf-9198-7358b9c1e075 button.colab-df-convert');\n",
              "      buttonEl.style.display =\n",
              "        google.colab.kernel.accessAllowed ? 'block' : 'none';\n",
              "\n",
              "      async function convertToInteractive(key) {\n",
              "        const element = document.querySelector('#df-dd135cbb-400e-4eaf-9198-7358b9c1e075');\n",
              "        const dataTable =\n",
              "          await google.colab.kernel.invokeFunction('convertToInteractive',\n",
              "                                                    [key], {});\n",
              "        if (!dataTable) return;\n",
              "\n",
              "        const docLinkHtml = 'Like what you see? Visit the ' +\n",
              "          '<a target=\"_blank\" href=https://colab.research.google.com/notebooks/data_table.ipynb>data table notebook</a>'\n",
              "          + ' to learn more about interactive tables.';\n",
              "        element.innerHTML = '';\n",
              "        dataTable['output_type'] = 'display_data';\n",
              "        await google.colab.output.renderOutput(dataTable, element);\n",
              "        const docLink = document.createElement('div');\n",
              "        docLink.innerHTML = docLinkHtml;\n",
              "        element.appendChild(docLink);\n",
              "      }\n",
              "    </script>\n",
              "  </div>\n",
              "\n",
              "\n",
              "<div id=\"df-8947a1fe-82b1-4a18-9bbf-691bd508608a\">\n",
              "  <button class=\"colab-df-quickchart\" onclick=\"quickchart('df-8947a1fe-82b1-4a18-9bbf-691bd508608a')\"\n",
              "            title=\"Suggest charts\"\n",
              "            style=\"display:none;\">\n",
              "\n",
              "<svg xmlns=\"http://www.w3.org/2000/svg\" height=\"24px\"viewBox=\"0 0 24 24\"\n",
              "     width=\"24px\">\n",
              "    <g>\n",
              "        <path d=\"M19 3H5c-1.1 0-2 .9-2 2v14c0 1.1.9 2 2 2h14c1.1 0 2-.9 2-2V5c0-1.1-.9-2-2-2zM9 17H7v-7h2v7zm4 0h-2V7h2v10zm4 0h-2v-4h2v4z\"/>\n",
              "    </g>\n",
              "</svg>\n",
              "  </button>\n",
              "\n",
              "<style>\n",
              "  .colab-df-quickchart {\n",
              "      --bg-color: #E8F0FE;\n",
              "      --fill-color: #1967D2;\n",
              "      --hover-bg-color: #E2EBFA;\n",
              "      --hover-fill-color: #174EA6;\n",
              "      --disabled-fill-color: #AAA;\n",
              "      --disabled-bg-color: #DDD;\n",
              "  }\n",
              "\n",
              "  [theme=dark] .colab-df-quickchart {\n",
              "      --bg-color: #3B4455;\n",
              "      --fill-color: #D2E3FC;\n",
              "      --hover-bg-color: #434B5C;\n",
              "      --hover-fill-color: #FFFFFF;\n",
              "      --disabled-bg-color: #3B4455;\n",
              "      --disabled-fill-color: #666;\n",
              "  }\n",
              "\n",
              "  .colab-df-quickchart {\n",
              "    background-color: var(--bg-color);\n",
              "    border: none;\n",
              "    border-radius: 50%;\n",
              "    cursor: pointer;\n",
              "    display: none;\n",
              "    fill: var(--fill-color);\n",
              "    height: 32px;\n",
              "    padding: 0;\n",
              "    width: 32px;\n",
              "  }\n",
              "\n",
              "  .colab-df-quickchart:hover {\n",
              "    background-color: var(--hover-bg-color);\n",
              "    box-shadow: 0 1px 2px rgba(60, 64, 67, 0.3), 0 1px 3px 1px rgba(60, 64, 67, 0.15);\n",
              "    fill: var(--button-hover-fill-color);\n",
              "  }\n",
              "\n",
              "  .colab-df-quickchart-complete:disabled,\n",
              "  .colab-df-quickchart-complete:disabled:hover {\n",
              "    background-color: var(--disabled-bg-color);\n",
              "    fill: var(--disabled-fill-color);\n",
              "    box-shadow: none;\n",
              "  }\n",
              "\n",
              "  .colab-df-spinner {\n",
              "    border: 2px solid var(--fill-color);\n",
              "    border-color: transparent;\n",
              "    border-bottom-color: var(--fill-color);\n",
              "    animation:\n",
              "      spin 1s steps(1) infinite;\n",
              "  }\n",
              "\n",
              "  @keyframes spin {\n",
              "    0% {\n",
              "      border-color: transparent;\n",
              "      border-bottom-color: var(--fill-color);\n",
              "      border-left-color: var(--fill-color);\n",
              "    }\n",
              "    20% {\n",
              "      border-color: transparent;\n",
              "      border-left-color: var(--fill-color);\n",
              "      border-top-color: var(--fill-color);\n",
              "    }\n",
              "    30% {\n",
              "      border-color: transparent;\n",
              "      border-left-color: var(--fill-color);\n",
              "      border-top-color: var(--fill-color);\n",
              "      border-right-color: var(--fill-color);\n",
              "    }\n",
              "    40% {\n",
              "      border-color: transparent;\n",
              "      border-right-color: var(--fill-color);\n",
              "      border-top-color: var(--fill-color);\n",
              "    }\n",
              "    60% {\n",
              "      border-color: transparent;\n",
              "      border-right-color: var(--fill-color);\n",
              "    }\n",
              "    80% {\n",
              "      border-color: transparent;\n",
              "      border-right-color: var(--fill-color);\n",
              "      border-bottom-color: var(--fill-color);\n",
              "    }\n",
              "    90% {\n",
              "      border-color: transparent;\n",
              "      border-bottom-color: var(--fill-color);\n",
              "    }\n",
              "  }\n",
              "</style>\n",
              "\n",
              "  <script>\n",
              "    async function quickchart(key) {\n",
              "      const quickchartButtonEl =\n",
              "        document.querySelector('#' + key + ' button');\n",
              "      quickchartButtonEl.disabled = true;  // To prevent multiple clicks.\n",
              "      quickchartButtonEl.classList.add('colab-df-spinner');\n",
              "      try {\n",
              "        const charts = await google.colab.kernel.invokeFunction(\n",
              "            'suggestCharts', [key], {});\n",
              "      } catch (error) {\n",
              "        console.error('Error during call to suggestCharts:', error);\n",
              "      }\n",
              "      quickchartButtonEl.classList.remove('colab-df-spinner');\n",
              "      quickchartButtonEl.classList.add('colab-df-quickchart-complete');\n",
              "    }\n",
              "    (() => {\n",
              "      let quickchartButtonEl =\n",
              "        document.querySelector('#df-8947a1fe-82b1-4a18-9bbf-691bd508608a button');\n",
              "      quickchartButtonEl.style.display =\n",
              "        google.colab.kernel.accessAllowed ? 'block' : 'none';\n",
              "    })();\n",
              "  </script>\n",
              "</div>\n",
              "    </div>\n",
              "  </div>\n"
            ]
          },
          "metadata": {},
          "execution_count": 13
        }
      ]
    },
    {
      "cell_type": "markdown",
      "metadata": {
        "id": "qEOky1fMzao0"
      },
      "source": [
        "# Geometric mean\n",
        "\n",
        "While the arithmetic mean averages using addition, the geometric mean uses multiplication:\n",
        "$$ G = \\sqrt[n]{X_1X_1\\ldots X_n} $$\n",
        "\n",
        "for observations $X_i \\geq 0$. We can also rewrite it as an arithmetic mean using logarithms:\n",
        "$$ \\ln G = \\frac{\\sum_{i=1}^n \\ln X_i}{n} $$\n",
        "\n",
        "The geometric mean is always less than or equal to the arithmetic mean (when working with nonnegative observations), with equality only when all of the observations are the same."
      ]
    },
    {
      "cell_type": "code",
      "execution_count": 15,
      "metadata": {
        "id": "k4k9Whduzao1",
        "outputId": "59a7babf-274b-4e5c-f361-977788d549f9",
        "colab": {
          "base_uri": "https://localhost:8080/"
        }
      },
      "outputs": [
        {
          "output_type": "stream",
          "name": "stdout",
          "text": [
            "Geometric mean of x1: 3.0941040249774403\n",
            "Geometric mean of x2: 4.552534587620071\n"
          ]
        }
      ],
      "source": [
        "# Use scipy's gmean function to compute the geometric mean\n",
        "print('Geometric mean of x1:', stats.gmean(x1))\n",
        "print('Geometric mean of x2:', stats.gmean(x2))"
      ]
    },
    {
      "cell_type": "markdown",
      "metadata": {
        "collapsed": true,
        "id": "j5NiHp0Xzao1"
      },
      "source": [
        "What if we want to compute the geometric mean when we have negative observations? This problem is easy to solve in the case of asset returns, where our values are always at least $-1$. We can add 1 to a return $R_t$ to get $1 + R_t$, which is the ratio of the price of the asset for two consecutive periods (as opposed to the percent change between the prices, $R_t$). This quantity will always be nonnegative. So we can compute the geometric mean return,\n",
        "$$ R_G = \\sqrt[T]{(1 + R_1)\\ldots (1 + R_T)} - 1$$"
      ]
    },
    {
      "cell_type": "code",
      "execution_count": 16,
      "metadata": {
        "id": "sQWmEQtXzao1",
        "outputId": "2ee647e9-fdad-43c5-84e0-8de75c25a0d3",
        "colab": {
          "base_uri": "https://localhost:8080/"
        }
      },
      "outputs": [
        {
          "output_type": "stream",
          "name": "stdout",
          "text": [
            "Geometric mean of returns: 0.00046461682827958484\n"
          ]
        }
      ],
      "source": [
        "# Add 1 to every value in the returns array and then compute R_G\n",
        "ratios = returns + np.ones(len(returns))\n",
        "R_G = stats.gmean(ratios) - 1\n",
        "print('Geometric mean of returns:', R_G)"
      ]
    },
    {
      "cell_type": "markdown",
      "metadata": {
        "id": "jr_y8FZ1zao2"
      },
      "source": [
        "The geometric mean is defined so that if the rate of return over the whole time period were constant and equal to $R_G$, the final price of the security would be the same as in the case of returns $R_1, \\ldots, R_T$."
      ]
    },
    {
      "cell_type": "code",
      "execution_count": 18,
      "metadata": {
        "id": "WOroke0vzao2",
        "outputId": "0c4dfaff-a596-46eb-9296-4e1dfef2552a",
        "colab": {
          "base_uri": "https://localhost:8080/"
        }
      },
      "outputs": [
        {
          "output_type": "stream",
          "name": "stdout",
          "text": [
            "Initial price: 182.9199981689453\n",
            "Final price: 205.5399932861328\n",
            "Final price as computed with R_G: 205.53999328613\n"
          ]
        }
      ],
      "source": [
        "T = len(returns)\n",
        "init_price = pricing[0]\n",
        "final_price = pricing[T]\n",
        "print('Initial price:', init_price)\n",
        "print('Final price:', final_price)\n",
        "print('Final price as computed with R_G:', init_price*(1 + R_G)**T)"
      ]
    },
    {
      "cell_type": "markdown",
      "metadata": {
        "id": "UlF5M1nTzao2"
      },
      "source": [
        "# Harmonic mean\n",
        "\n",
        "The harmonic mean is less commonly used than the other types of means. It is defined as\n",
        "$$ H = \\frac{n}{\\sum_{i=1}^n \\frac{1}{X_i}} $$\n",
        "\n",
        "As with the geometric mean, we can rewrite the harmonic mean to look like an arithmetic mean. The reciprocal of the harmonic mean is the arithmetic mean of the reciprocals of the observations:\n",
        "$$ \\frac{1}{H} = \\frac{\\sum_{i=1}^n \\frac{1}{X_i}}{n} $$\n",
        "\n",
        "The harmonic mean for nonnegative numbers $X_i$ is always at most the geometric mean (which is at most the arithmetic mean), and they are equal only when all of the observations are equal."
      ]
    },
    {
      "cell_type": "code",
      "execution_count": 17,
      "metadata": {
        "id": "eysWHUkDzao3",
        "outputId": "67b9d4cb-aa8d-4447-e573-1b4e736bc57f",
        "colab": {
          "base_uri": "https://localhost:8080/"
        }
      },
      "outputs": [
        {
          "output_type": "stream",
          "name": "stdout",
          "text": [
            "Harmonic mean of x1: 2.5590251332825593\n",
            "Harmonic mean of x2: 2.869723656240511\n"
          ]
        }
      ],
      "source": [
        "print('Harmonic mean of x1:', stats.hmean(x1))\n",
        "print('Harmonic mean of x2:', stats.hmean(x2))"
      ]
    },
    {
      "cell_type": "markdown",
      "metadata": {
        "id": "YH_ZKRR_zao3"
      },
      "source": [
        "The harmonic mean can be used when the data can be naturally phrased in terms of ratios. For instance, in the dollar-cost averaging strategy, a fixed amount is spent on shares of a stock at regular intervals. The higher the price of the stock, then, the fewer shares an investor following this strategy buys. The average (arithmetic mean) amount they pay for the stock is the harmonic mean of the prices."
      ]
    },
    {
      "cell_type": "markdown",
      "metadata": {
        "collapsed": true,
        "id": "SRqzbCUKzao3"
      },
      "source": [
        "# Point Estimates Can Be Deceiving\n",
        "\n",
        "Means by nature hide a lot of information, as they collapse entire distributions into one number. As a result often 'point estimates' or metrics that use one number, can disguise large programs in your data. You should be careful to ensure that you are not losing key information by summarizing your data, and you should rarely, if ever, use a mean without also referring to a measure of spread.\n",
        "\n",
        "## Underlying Distribution Can be Wrong\n",
        "\n",
        "Even when you are using the right metrics for mean and spread, they can make no sense if your underlying distribution is not what you think it is. For instance, using standard deviation to measure frequency of an event will usually assume normality. Try not to assume distributions unless you have to, in which case you should rigourously check that the data do fit the distribution you are assuming."
      ]
    },
    {
      "cell_type": "markdown",
      "metadata": {
        "id": "zL-t73k9zao3"
      },
      "source": [
        "## References\n",
        "* \"Quantitative Investment Analysis\", by DeFusco, McLeavey, Pinto, and Runkle"
      ]
    },
    {
      "cell_type": "markdown",
      "metadata": {
        "id": "JQLhMqJqzao4"
      },
      "source": [
        "*This presentation is for informational purposes only and does not constitute an offer to sell, a solicitation to buy, or a recommendation for any security; nor does it constitute an offer to provide investment advisory or other services by Quantopian, Inc. (\"Quantopian\"). Nothing contained herein constitutes investment advice or offers any opinion with respect to the suitability of any security, and any views expressed herein should not be taken as advice to buy, sell, or hold any security or as an endorsement of any security or company.  In preparing the information contained herein, Quantopian, Inc. has not taken into account the investment needs, objectives, and financial circumstances of any particular investor. Any views expressed and data illustrated herein were prepared based upon information, believed to be reliable, available to Quantopian, Inc. at the time of publication. Quantopian makes no guarantees as to their accuracy or completeness. All information is subject to change and may quickly become unreliable for various reasons, including changes in market conditions or economic circumstances.*"
      ]
    }
  ],
  "metadata": {
    "kernelspec": {
      "display_name": "Python 3.5",
      "language": "python",
      "name": "py35"
    },
    "language_info": {
      "codemirror_mode": {
        "name": "ipython",
        "version": 3
      },
      "file_extension": ".py",
      "mimetype": "text/x-python",
      "name": "python",
      "nbconvert_exporter": "python",
      "pygments_lexer": "ipython3",
      "version": "3.5.9"
    },
    "colab": {
      "provenance": []
    }
  },
  "nbformat": 4,
  "nbformat_minor": 0
}