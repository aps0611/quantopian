{
  "cells": [
    {
      "cell_type": "markdown",
      "metadata": {
        "id": "w60lMxCMW2ld"
      },
      "source": [
        "# Measuring Monotonic Relationships\n",
        "By Evgenia \"Jenny\" Nitishinskaya and Delaney Granizo-Mackenzie with example algorithms by David Edwards\n",
        "\n",
        "Reference: DeFusco, Richard A. \"Tests Concerning Correlation: The Spearman Rank Correlation Coefficient.\" Quantitative Investment Analysis. Hoboken, NJ: Wiley, 2007\n",
        "\n",
        "\n",
        "Part of the Quantopian Lecture Series:\n",
        "\n",
        "* [www.quantopian.com/lectures](https://www.quantopian.com/lectures)\n",
        "* [github.com/quantopian/research_public](https://github.com/quantopian/research_public)\n",
        "\n",
        "\n",
        "---\n",
        "\n",
        "The Spearman Rank Correlation Coefficient allows us to determine whether or not two data series move together; that is, when one increases (decreases) the other also increases (decreases). This is more general than a linear relationship; for instance, $y = e^x$ is a monotonic function, but not a linear one. Therefore, in computing it we compare not the raw data but the ranks of the data.\n",
        "\n",
        "This is useful when your data sets may be in different units, and therefore not linearly related (for example, the price of a square plot of land and its side length, since the price is more likely to be linear in the area). It's also suitable for data sets which not satisfy the assumptions that other tests require, such as the observations being normally distributed as would be necessary for a t-test."
      ]
    },
    {
      "cell_type": "code",
      "execution_count": 1,
      "metadata": {
        "collapsed": true,
        "id": "bAlLeYCeW2lm"
      },
      "outputs": [],
      "source": [
        "import numpy as np\n",
        "import scipy.stats as stats\n",
        "import matplotlib.pyplot as plt\n",
        "import math"
      ]
    },
    {
      "cell_type": "code",
      "execution_count": 2,
      "metadata": {
        "id": "-eFs3AENW2lr",
        "outputId": "f4171604-d2db-4435-ae47-2eaa49f3632e",
        "colab": {
          "base_uri": "https://localhost:8080/"
        }
      },
      "outputs": [
        {
          "output_type": "stream",
          "name": "stdout",
          "text": [
            "Raw data:  [10, 9, 5, 7, 5]\n",
            "Ranking:  [5.0, 4.0, 1.5, 3.0, 1.5]\n"
          ]
        }
      ],
      "source": [
        "# Example of ranking data\n",
        "l = [10, 9, 5, 7, 5]\n",
        "print('Raw data: ', l)\n",
        "print('Ranking: ', list(stats.rankdata(l, method='average')))"
      ]
    },
    {
      "cell_type": "markdown",
      "metadata": {
        "id": "1VMi4NyYW2lv"
      },
      "source": [
        "## Spearman Rank Correlation\n",
        "\n",
        "### Intuition\n",
        "\n",
        "The intution is now that instead of looking at the relationship between the two variables, we look at the relationship between the ranks. This is robust to outliers and the scale of the data.\n",
        "\n",
        "### Definition\n",
        "\n",
        "The argument `method='average'` indicates that when we have a tie, we average the ranks that the numbers would occupy. For example, the two 5's above, which would take up ranks 1 and 2, each get assigned a rank of $1.5$.\n",
        "\n",
        "To compute the Spearman rank correlation for two data sets $X$ and $Y$, each of size $n$, we use the formula\n",
        "$$r_S = 1 - \\frac{6 \\sum_{i=1}^n d_i^2}{n(n^2 - 1)}$$\n",
        "\n",
        "where $d_i$ is the difference between the ranks of the $i$th pair of observations, $X_i - Y_i$.\n",
        "\n",
        "The result will always be between $-1$ and $1$. A positive value indicates a positive relationship between the variables, while a negative value indicates an inverse relationship. A value of 0 implies the absense of any monotonic relationship. This does not mean that there is no relationship; for instance, if $Y$ is equal to $X$ with a delay of 2, they are related simply and precisely, but their $r_S$ can be close to zero:"
      ]
    },
    {
      "cell_type": "markdown",
      "metadata": {
        "id": "qlhB1c-fW2lx"
      },
      "source": [
        "##Experiment\n",
        "\n",
        "Let's see what happens if we draw $X$ from a poisson distribution (non-normal), and then set $Y = e^X + \\epsilon$ where $\\epsilon$ is drawn from another poisson distribution. We'll take the spearman rank and the correlation coefficient on this data and then run the entire experiment many times. Because $e^X$ produces many values that are far away from the rest, we can this of this as modeling 'outliers' in our data. Spearman rank compresses the outliers and does better at measuring correlation. Normal correlation is confused by the outliers and on average will measure less of a relationship than is actually there."
      ]
    },
    {
      "cell_type": "code",
      "execution_count": 11,
      "metadata": {
        "id": "cHRpa-Z9W2ly",
        "outputId": "60318237-05bc-42c1-f05d-181a6ef3a819",
        "colab": {
          "base_uri": "https://localhost:8080/"
        }
      },
      "outputs": [
        {
          "output_type": "stream",
          "name": "stdout",
          "text": [
            "Spearman Rank Coefficient: 0.87779699369937\n",
            "Correlation coefficient: 0.7725164586343052\n"
          ]
        }
      ],
      "source": [
        "## Let's see an example of this\n",
        "n = 100\n",
        "\n",
        "def compare_correlation_and_spearman_rank(n, noise):\n",
        "    X = np.random.poisson(size=n)\n",
        "    Y = np.exp(X) + noise * np.random.normal(size=n)\n",
        "\n",
        "    Xrank = stats.rankdata(X, method='average')\n",
        "    # n-2 is the second to last element\n",
        "    Yrank = stats.rankdata(Y, method='average')\n",
        "\n",
        "    diffs = Xrank - Yrank # order doesn't matter since we'll be squaring these values\n",
        "    r_s = 1 - 6*sum(diffs*diffs)/(n*(n**2 - 1))\n",
        "    c_c = np.corrcoef(X, Y)[0,1]\n",
        "\n",
        "    return r_s, c_c, X, Y\n",
        "\n",
        "experiments = 1000\n",
        "spearman_dist = np.ndarray(experiments)\n",
        "correlation_dist = np.ndarray(experiments)\n",
        "for i in range(experiments):\n",
        "    r_s, c_c, X, Y = compare_correlation_and_spearman_rank(n, 1.0)\n",
        "    spearman_dist[i] = r_s\n",
        "    correlation_dist[i] = c_c\n",
        "\n",
        "print('Spearman Rank Coefficient: ' + str(np.mean(spearman_dist)))\n",
        "# Compare to the regular correlation coefficient\n",
        "print('Correlation coefficient: ' + str(np.mean(correlation_dist)))"
      ]
    },
    {
      "cell_type": "code",
      "source": [
        "plt.scatter(X,Y)\n",
        "plt.xlabel('X Value')\n",
        "plt.ylabel('Y Value')\n",
        "\n",
        "## is Y = 20, X=3 a outlier?"
      ],
      "metadata": {
        "colab": {
          "base_uri": "https://localhost:8080/",
          "height": 466
        },
        "id": "6zhQehAyY0hV",
        "outputId": "9c1c1664-1f45-4c1c-8f5d-3f4b231a4e0c"
      },
      "execution_count": 12,
      "outputs": [
        {
          "output_type": "execute_result",
          "data": {
            "text/plain": [
              "Text(0, 0.5, 'Y Value')"
            ]
          },
          "metadata": {},
          "execution_count": 12
        },
        {
          "output_type": "display_data",
          "data": {
            "text/plain": [
              "<Figure size 640x480 with 1 Axes>"
            ],
            "image/png": "[encoded data removed]"
          },
          "metadata": {}
        }
      ]
    },
    {
      "cell_type": "markdown",
      "metadata": {
        "id": "d_LlT1ezW2lz"
      },
      "source": [
        "Let's take a look at the distribution of measured correlation coefficients and compare the spearman with the regular metric."
      ]
    },
    {
      "cell_type": "code",
      "execution_count": 4,
      "metadata": {
        "id": "DJCqCHqLW2lz",
        "outputId": "8a02a861-1fe7-4972-91ee-41a19b82f471",
        "colab": {
          "base_uri": "https://localhost:8080/",
          "height": 449
        }
      },
      "outputs": [
        {
          "output_type": "display_data",
          "data": {
            "text/plain": [
              "<Figure size 640x480 with 1 Axes>"
            ],
            "image/png": "[encoded data removed]"
          },
          "metadata": {}
        }
      ],
      "source": [
        "plt.hist(spearman_dist, bins=50, alpha=0.5)\n",
        "plt.hist(correlation_dist, bins=50, alpha=0.5)\n",
        "plt.legend(['Spearman Rank', 'Regular Correlation'])\n",
        "plt.xlabel('Correlation Coefficient')\n",
        "plt.ylabel('Frequency');"
      ]
    },
    {
      "cell_type": "markdown",
      "metadata": {
        "id": "PFLAoFqMW2l0"
      },
      "source": [
        "Now let's see how the Spearman rank and Regular coefficients cope when we add more noise to the situation."
      ]
    },
    {
      "cell_type": "code",
      "execution_count": 14,
      "metadata": {
        "id": "pAUUd3WHW2l0",
        "outputId": "55d5c916-d11e-4451-a70f-c3aec61a3555",
        "colab": {
          "base_uri": "https://localhost:8080/",
          "height": 466
        }
      },
      "outputs": [
        {
          "output_type": "execute_result",
          "data": {
            "text/plain": [
              "Text(0, 0.5, 'Average Correlation Coefficient')"
            ]
          },
          "metadata": {},
          "execution_count": 14
        },
        {
          "output_type": "display_data",
          "data": {
            "text/plain": [
              "<Figure size 640x480 with 1 Axes>"
            ],
            "image/png": "[encoded data removed]"
          },
          "metadata": {}
        }
      ],
      "source": [
        "n = 100\n",
        "noises = np.linspace(0, 3, 30)\n",
        "experiments = 100\n",
        "spearman = np.ndarray(len(noises))\n",
        "correlation = np.ndarray(len(noises))\n",
        "\n",
        "for i in range(len(noises)):\n",
        "    # Run many experiments for each noise setting\n",
        "    rank_coef = 0.0\n",
        "    corr_coef = 0.0\n",
        "    noise = noises[i]\n",
        "    for j in range(experiments):\n",
        "        r_s, c_c, X, Y = compare_correlation_and_spearman_rank(n, noise)\n",
        "        rank_coef += r_s\n",
        "        corr_coef += c_c\n",
        "    spearman[i] = rank_coef/experiments\n",
        "    correlation[i] = corr_coef/experiments\n",
        "\n",
        "plt.scatter(noises, spearman, color='r')\n",
        "plt.scatter(noises, correlation)\n",
        "plt.legend(['Spearman Rank', 'Regular Correlation'])\n",
        "plt.xlabel('Amount of Noise')\n",
        "plt.ylabel('Average Correlation Coefficient')"
      ]
    },
    {
      "cell_type": "markdown",
      "metadata": {
        "id": "Crj94lHIW2l1"
      },
      "source": [
        "We can see that the Spearman rank correlation copes with the non-linear relationship much better at most levels of noise. Interestingly, at very high levels, it seems to do worse than regular correlation."
      ]
    },
    {
      "cell_type": "markdown",
      "metadata": {
        "id": "bG3kcxjeW2l2"
      },
      "source": [
        "##Delay in correlation\n",
        "\n",
        "Of you might have the case that one process affects another, but after a time lag. Now let's see what happens if we add the delay."
      ]
    },
    {
      "cell_type": "code",
      "execution_count": 7,
      "metadata": {
        "id": "7rJKIV7NW2l2",
        "outputId": "cfee24f8-1ed4-4703-bc38-ee678359f397",
        "colab": {
          "base_uri": "https://localhost:8080/"
        }
      },
      "outputs": [
        {
          "output_type": "stream",
          "name": "stdout",
          "text": [
            "-0.055706570657065635\n"
          ]
        }
      ],
      "source": [
        "n = 100\n",
        "\n",
        "X = np.random.rand(n)\n",
        "Xrank = stats.rankdata(X, method='average')\n",
        "# n-2 is the second to last element\n",
        "Yrank = stats.rankdata([1,1] + list(X[:(n-2)]), method='average')\n",
        "\n",
        "diffs = Xrank - Yrank # order doesn't matter since we'll be squaring these values\n",
        "r_s = 1 - 6*sum(diffs*diffs)/(n*(n**2 - 1))\n",
        "print(r_s)"
      ]
    },
    {
      "cell_type": "markdown",
      "metadata": {
        "id": "GT3u_srCW2l3"
      },
      "source": [
        "Sure enough, the relationship is not detected. It is important when using both regular and spearman correlation to check for lagged relationships by offsetting your data and testing for different offset values."
      ]
    },
    {
      "cell_type": "markdown",
      "metadata": {
        "id": "czUomjZxW2l3"
      },
      "source": [
        "##Built-In Function\n",
        "\n",
        "We can also use the `spearmanr` function in the `scipy.stats` library:"
      ]
    },
    {
      "cell_type": "code",
      "execution_count": 15,
      "metadata": {
        "id": "QUtjhMSrW2l4",
        "outputId": "6ce7a593-3a19-4175-c9e2-0d8530b0c54e",
        "colab": {
          "base_uri": "https://localhost:8080/"
        }
      },
      "outputs": [
        {
          "output_type": "stream",
          "name": "stdout",
          "text": [
            "Spearman Rank Coefficient:  0.23636363636363633\n",
            "p-value:  0.5108853175152002\n"
          ]
        }
      ],
      "source": [
        "# Generate two random data sets\n",
        "np.random.seed(161)\n",
        "X = np.random.rand(10)\n",
        "Y = np.random.rand(10)\n",
        "\n",
        "r_s = stats.spearmanr(X, Y)\n",
        "print('Spearman Rank Coefficient: ', r_s[0])\n",
        "print('p-value: ', r_s[1])"
      ]
    },
    {
      "cell_type": "markdown",
      "metadata": {
        "id": "Ja97HqpOW2l4"
      },
      "source": [
        "We now have ourselves an $r_S$, but how do we interpret it? It's positive, so we know that the variables are not anticorrelated. It's not very large, so we know they aren't perfectly positively correlated, but it's hard to say from a glance just how significant the correlation is. Luckily, `spearmanr` also computes the p-value for this coefficient and sample size for us. We can see that the p-value here is above 0.05; therefore, we cannot claim that $X$ and $Y$ are correlated.\n",
        "\n",
        "##Real World Example: Mutual Fund Expense Ratio\n",
        "\n",
        "Now that we've seen how Spearman rank correlation works, we'll quickly go through the process again with some real data. For instance, we may wonder whether the expense ratio of a mutual fund is indicative of its three-year Sharpe ratio. That is, does spending more money on administration, management, etc. lower the risk or increase the returns? Quantopian does not currently support mutual funds, so we will pull the data from Yahoo Finance. Our p-value cutoff will be the usual default of 0.05.\n",
        "\n",
        "### Data Source\n",
        "\n",
        "Thanks to [Matthew Madurski](https://github.com/dursk) for the data. To obtain the same data:\n",
        "\n",
        "1. Download the csv from this link. https://gist.github.com/dursk/82eee65b7d1056b469ab\n",
        "2. Upload it to the 'data' folder in your research account."
      ]
    },
    {
      "cell_type": "code",
      "execution_count": 17,
      "metadata": {
        "id": "G0QcE_jYW2l5",
        "outputId": "de1c0320-0ba0-428f-bac4-f0ec2a9b0555",
        "colab": {
          "base_uri": "https://localhost:8080/",
          "height": 484
        }
      },
      "outputs": [
        {
          "output_type": "stream",
          "name": "stdout",
          "text": [
            "Spearman Rank Coefficient:  -0.3696969696969697\n",
            "p-value:  0.2930500752928223\n"
          ]
        },
        {
          "output_type": "display_data",
          "data": {
            "text/plain": [
              "<Figure size 640x480 with 1 Axes>"
            ],
            "image/png": "[encoded data removed]"
          },
          "metadata": {}
        }
      ],
      "source": [
        "expense = [1.35,1.79,1.45,1.88,1.0,1.01,1.19,1.92,0.51,1.24]\n",
        "sharpe = [0.9,1,1.11,0.1,1.01,1.69,1.62,1.83,1.94,2.16]\n",
        "\n",
        "plt.scatter(expense, sharpe)\n",
        "plt.xlabel('Expense Ratio')\n",
        "plt.ylabel('Sharpe Ratio')\n",
        "\n",
        "r_S = stats.spearmanr(expense, sharpe)\n",
        "print('Spearman Rank Coefficient: ', r_S[0])\n",
        "print('p-value: ', r_S[1])"
      ]
    },
    {
      "cell_type": "code",
      "source": [
        "### p-value is not below 0.05 thus dont go ahead there is nothing meaningful"
      ],
      "metadata": {
        "id": "7m-P-l-ad_JF"
      },
      "execution_count": 18,
      "outputs": []
    },
    {
      "cell_type": "markdown",
      "metadata": {
        "id": "L_70K4m4W2l5"
      },
      "source": [
        "Our p-value is below the cutoff?,  Yes:: means we accept the hypothesis that the two are correlated. The negative coefficient indicates that there is a negative correlation, and that more expensive mutual funds have worse sharpe ratios. However, there is some weird clustering in the data, it seems there are expensive groups with low sharpe ratios, and a main group whose sharpe ratio is unrelated to the expense. Further analysis would be required to understand what's going on here."
      ]
    },
    {
      "cell_type": "markdown",
      "metadata": {
        "id": "499D2YudW2l6"
      },
      "source": [
        "## Real World Use Case: Evaluating a Ranking Model\n",
        "\n",
        "### NOTE: [Factor Analysis](https://www.quantopian.com/lectures/factor-analysis) now covers this topic in much greater detail\n",
        "\n",
        "Let's say that we have some way of ranking securities and that we'd like to test how well our ranking performs in practice. In this case our model just takes the mean daily return for the last month and ranks the stocks by that metric.\n",
        "\n",
        "We hypothesize that this will be predictive of the mean returns over the next month. To test this we score the stocks based on a lookback window, then take the spearman rank correlation of the score and the mean returns over the walk forward month."
      ]
    },
    {
      "cell_type": "markdown",
      "source": [
        "## check the factor analysis notebook"
      ],
      "metadata": {
        "id": "lheJRBMmg5cS"
      }
    },
    {
      "cell_type": "code",
      "execution_count": 21,
      "metadata": {
        "id": "v9PGKCAbW2l6",
        "outputId": "7aa58871-b3e4-4594-a60e-649beef03486",
        "colab": {
          "base_uri": "https://localhost:8080/",
          "height": 1000
        }
      },
      "outputs": [
        {
          "output_type": "stream",
          "name": "stderr",
          "text": [
            "[*********************100%%**********************]  1 of 1 completed\n",
            "[*********************100%%**********************]  1 of 1 completed\n",
            "ERROR:yfinance:\n",
            "1 Failed download:\n",
            "ERROR:yfinance:['AAV']: Exception('%ticker%: No price data found, symbol may be delisted (1d 2014-12-01 00:00:00 -> 2015-01-01 00:00:00)')\n",
            "[*********************100%%**********************]  1 of 1 completed\n",
            "ERROR:yfinance:\n",
            "1 Failed download:\n",
            "ERROR:yfinance:['AAVL']: Exception(\"%ticker%: Data doesn't exist for startDate = 1417410000, endDate = 1420088400\")\n",
            "[*********************100%%**********************]  1 of 1 completed\n",
            "ERROR:yfinance:\n",
            "1 Failed download:\n",
            "ERROR:yfinance:['AAWW']: Exception('%ticker%: No timezone found, symbol may be delisted')\n",
            "[*********************100%%**********************]  1 of 1 completed\n",
            "[*********************100%%**********************]  1 of 1 completed\n",
            "ERROR:yfinance:\n",
            "1 Failed download:\n",
            "ERROR:yfinance:['ABAC']: Exception('%ticker%: No price data found, symbol may be delisted (1d 2014-12-01 00:00:00 -> 2015-01-01 00:00:00)')\n",
            "[*********************100%%**********************]  1 of 1 completed\n",
            "[*********************100%%**********************]  1 of 1 completed\n",
            "ERROR:yfinance:\n",
            "1 Failed download:\n",
            "ERROR:yfinance:['ABB']: Exception('%ticker%: No timezone found, symbol may be delisted')\n",
            "/usr/local/lib/python3.10/dist-packages/numpy/core/fromnumeric.py:3430: FutureWarning: In a future version, DataFrame.mean(axis=None) will return a scalar mean over the entire DataFrame. To retain the old behavior, use 'frame.mean(axis=0)' or just 'frame.mean()'\n",
            "  return mean(axis=axis, dtype=dtype, out=out, **kwargs)\n",
            "[*********************100%%**********************]  8 of 8 completed\n",
            "ERROR:yfinance:\n",
            "5 Failed downloads:\n",
            "ERROR:yfinance:['AAWW', 'ABB']: Exception('%ticker%: No timezone found, symbol may be delisted')\n",
            "ERROR:yfinance:['AAVL']: Exception(\"%ticker%: Data doesn't exist for startDate = 1420088400, endDate = 1422766800\")\n",
            "ERROR:yfinance:['ABAC', 'AAV']: Exception('%ticker%: No price data found, symbol may be delisted (1d 2015-01-01 00:00:00 -> 2015-02-01 00:00:00)')\n"
          ]
        },
        {
          "output_type": "stream",
          "name": "stdout",
          "text": [
            "Our Scores\n",
            "\n",
            "AAU    NaN\n",
            "AAV    NaN\n",
            "AAVL   NaN\n",
            "AAWW   NaN\n",
            "AB     NaN\n",
            "ABAC   NaN\n",
            "ABAX   NaN\n",
            "ABB    NaN\n",
            "dtype: float64\n",
            "\n",
            "\n"
          ]
        },
        {
          "output_type": "stream",
          "name": "stderr",
          "text": [
            "/usr/local/lib/python3.10/dist-packages/numpy/core/fromnumeric.py:3430: FutureWarning: In a future version, DataFrame.mean(axis=None) will return a scalar mean over the entire DataFrame. To retain the old behavior, use 'frame.mean(axis=0)' or just 'frame.mean()'\n",
            "  return mean(axis=axis, dtype=dtype, out=out, **kwargs)\n"
          ]
        },
        {
          "output_type": "stream",
          "name": "stdout",
          "text": [
            "Walk Forward Returns:\n",
            " Ticker\n",
            "AAU    NaN\n",
            "AAV    NaN\n",
            "AAVL   NaN\n",
            "AAWW   NaN\n",
            "AB     NaN\n",
            "ABAC   NaN\n",
            "ABAX   NaN\n",
            "ABB    NaN\n",
            "dtype: float64\n",
            "\n",
            "\n",
            "Correlation Coefficient: nan\n",
            "p-value: nan\n"
          ]
        },
        {
          "output_type": "display_data",
          "data": {
            "text/plain": [
              "<Figure size 640x480 with 1 Axes>"
            ],
            "image/png": "[encoded data removed]"
          },
          "metadata": {}
        }
      ],
      "source": [
        "import datetime\n",
        "import yfinance as yf\n",
        "import pandas as pd\n",
        "import numpy as np\n",
        "\n",
        "symbol_list = [ 'AAU', 'AAV', 'AAVL', 'AAWW', 'AB', 'ABAC', 'ABAX', 'ABB']\n",
        "\n",
        "# Get the returns over the lookback window\n",
        "start = datetime.datetime(2014,12,1)\n",
        "end = datetime.datetime(2015,1,1)\n",
        "\n",
        "returns_df = pd.DataFrame()\n",
        "\n",
        "# Iterate through each symbol and download historical data\n",
        "for symbol in symbol_list:\n",
        "    data = yf.download(symbol, start=start, end=end)\n",
        "\n",
        "    # Calculate daily returns and append to the DataFrame\n",
        "    returns_df[symbol] = data['Close'].pct_change()\n",
        "\n",
        "# Drop the first row containing NaN values\n",
        "historical_returns = returns_df.dropna()\n",
        "\n",
        "# Compute our stock score\n",
        "scores = np.mean(historical_returns)\n",
        "print('Our Scores\\n')\n",
        "print(scores)\n",
        "print('\\n')\n",
        "\n",
        "start_forward = datetime.datetime(2015,1,1)\n",
        "end_forward = datetime.datetime(2015,2,1)\n",
        "walk_forward_returns_df = yf.download(symbol_list, start=start_forward, end=end_forward)['Close'].pct_change().dropna()\n",
        "walk_forward_returns = np.mean(walk_forward_returns_df)\n",
        "print('Walk Forward Returns:\\n', walk_forward_returns)\n",
        "print('\\n')\n",
        "\n",
        "plt.scatter(scores, walk_forward_returns)\n",
        "plt.xlabel('Scores')\n",
        "plt.ylabel('Walk Forward Returns')\n",
        "\n",
        "r_s = stats.spearmanr(scores, walk_forward_returns)\n",
        "print ('Correlation Coefficient: ' + str(r_s[0]))\n",
        "print ('p-value: ' + str(r_s[1]))"
      ]
    },
    {
      "cell_type": "markdown",
      "metadata": {
        "id": "BfaNhYcjW2l7"
      },
      "source": [
        "The p-value indicates that our hypothesis is false and we accept the null hypothesis that our ranking was no better than random. This is a really good check of any ranking system one devises for constructing a long-short equity portfolio."
      ]
    },
    {
      "cell_type": "markdown",
      "metadata": {
        "id": "pVC7LaasW2l7"
      },
      "source": [
        "*This presentation is for informational purposes only and does not constitute an offer to sell, a solicitation to buy, or a recommendation for any security; nor does it constitute an offer to provide investment advisory or other services by Quantopian, Inc. (\"Quantopian\"). Nothing contained herein constitutes investment advice or offers any opinion with respect to the suitability of any security, and any views expressed herein should not be taken as advice to buy, sell, or hold any security or as an endorsement of any security or company.  In preparing the information contained herein, Quantopian, Inc. has not taken into account the investment needs, objectives, and financial circumstances of any particular investor. Any views expressed and data illustrated herein were prepared based upon information, believed to be reliable, available to Quantopian, Inc. at the time of publication. Quantopian makes no guarantees as to their accuracy or completeness. All information is subject to change and may quickly become unreliable for various reasons, including changes in market conditions or economic circumstances.*"
      ]
    }
  ],
  "metadata": {
    "kernelspec": {
      "display_name": "Python 2",
      "language": "python",
      "name": "python2"
    },
    "language_info": {
      "codemirror_mode": {
        "name": "ipython",
        "version": 2
      },
      "file_extension": ".py",
      "mimetype": "text/x-python",
      "name": "python",
      "nbconvert_exporter": "python",
      "pygments_lexer": "ipython2",
      "version": "2.7.12"
    },
    "colab": {
      "provenance": []
    }
  },
  "nbformat": 4,
  "nbformat_minor": 0
}