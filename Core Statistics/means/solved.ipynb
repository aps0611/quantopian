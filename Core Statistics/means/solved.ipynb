{
  "cells": [
    {
      "cell_type": "markdown",
      "metadata": {
        "id": "BfxUuKOiCNIx"
      },
      "source": [
        "# Exercises: Means\n",
        "By Christopher van Hoecke and Max Margenot\n",
        "\n",
        "## Lecture Link :\n",
        "https://www.quantopian.com/lectures/means\n",
        "\n",
        "### IMPORTANT NOTE:\n",
        "This lecture corresponds to the Means lecture, which is part of the Quantopian lecture series. This homework expects you to rely heavily on the code presented in the corresponding lecture. Please copy and paste regularly from that lecture when starting to work on the problems, as trying to do them from scratch will likely be too difficult.\n",
        "\n",
        "Part of the Quantopian Lecture Series:\n",
        "\n",
        "* [www.quantopian.com/lectures](https://www.quantopian.com/lectures)\n",
        "* [github.com/quantopian/research_public](https://github.com/quantopian/research_public)\n",
        "\n",
        "----"
      ]
    },
    {
      "cell_type": "markdown",
      "metadata": {
        "id": "-Ny866LbCNI8"
      },
      "source": [
        "## Key Concepts"
      ]
    },
    {
      "cell_type": "code",
      "execution_count": 1,
      "metadata": {
        "id": "O9QH_fBbCNI9"
      },
      "outputs": [],
      "source": [
        "# Useful Functions\n",
        "def mode(l):\n",
        "    # Count the number of times each element appears in the list\n",
        "    counts = {}\n",
        "    for e in l:\n",
        "        if e in counts:\n",
        "            counts[e] += 1\n",
        "        else:\n",
        "            counts[e] = 1\n",
        "\n",
        "    # Return the elements that appear the most times\n",
        "    maxcount = 0\n",
        "    modes = {}\n",
        "    for (key, value) in counts.items():\n",
        "        if value > maxcount:\n",
        "            maxcount = value\n",
        "            modes = {key}\n",
        "        elif value == maxcount:\n",
        "            modes.add(key)\n",
        "\n",
        "    if maxcount > 1 or len(l) == 1:\n",
        "        return list(modes)\n",
        "    return 'No mode'"
      ]
    },
    {
      "cell_type": "code",
      "execution_count": 2,
      "metadata": {
        "id": "yjm9px68CNJA"
      },
      "outputs": [],
      "source": [
        "# Useful Libraries\n",
        "import scipy.stats as stats\n",
        "import numpy as np"
      ]
    },
    {
      "cell_type": "markdown",
      "metadata": {
        "id": "fbMGDr3dCNJB"
      },
      "source": [
        "#### Data:"
      ]
    },
    {
      "cell_type": "code",
      "execution_count": 3,
      "metadata": {
        "id": "s9zkjFE0CNJC"
      },
      "outputs": [],
      "source": [
        "l=[]\n",
        "for x in range(1,100):\n",
        "    x=np.random.randint(1,100)\n",
        "    l.append(x)"
      ]
    },
    {
      "cell_type": "markdown",
      "metadata": {
        "id": "vN1vetaiCNJD"
      },
      "source": [
        "----"
      ]
    },
    {
      "cell_type": "markdown",
      "metadata": {
        "id": "C91FIJIpCNJE"
      },
      "source": [
        "# Exercise 1 : Arithmetic mean.\n",
        "## a. Mean of random data set.\n",
        "Find the mean of the randomly generated data set `l`."
      ]
    },
    {
      "cell_type": "code",
      "execution_count": 4,
      "metadata": {
        "id": "y4pmkextCNJF",
        "colab": {
          "base_uri": "https://localhost:8080/"
        },
        "outputId": "6888c280-3ff7-412c-da3b-46120d465a81"
      },
      "outputs": [
        {
          "output_type": "execute_result",
          "data": {
            "text/plain": [
              "46.90909090909091"
            ]
          },
          "metadata": {},
          "execution_count": 4
        }
      ],
      "source": [
        "np.mean(l)"
      ]
    },
    {
      "cell_type": "markdown",
      "metadata": {
        "id": "HStmggBECNJG"
      },
      "source": [
        "## b. Mean of returns\n",
        "Find the mean of the returns of Iteris Inc. (ITI)."
      ]
    },
    {
      "cell_type": "code",
      "execution_count": 5,
      "metadata": {
        "id": "7Be1lVeuCNJG",
        "colab": {
          "base_uri": "https://localhost:8080/"
        },
        "outputId": "0ed96c56-ada2-4daf-95b3-6cc02a127d3c"
      },
      "outputs": [
        {
          "output_type": "stream",
          "name": "stderr",
          "text": [
            "/usr/local/lib/python3.10/dist-packages/yfinance/base.py:48: FutureWarning: The default dtype for empty Series will be 'object' instead of 'float64' in a future version. Specify a dtype explicitly to silence this warning.\n",
            "  _empty_series = pd.Series()\n",
            "[*********************100%%**********************]  1 of 1 completed\n"
          ]
        },
        {
          "output_type": "execute_result",
          "data": {
            "text/plain": [
              "-4.482282705837242e-05"
            ]
          },
          "metadata": {},
          "execution_count": 5
        }
      ],
      "source": [
        "import yfinance as yf\n",
        "import datetime as datetime\n",
        "\n",
        "start = datetime.datetime(2005,1,1)\n",
        "end = datetime.datetime(2010,1,1)\n",
        "\n",
        "price = yf.download('ITI', start = start, end = end)\n",
        "price = price['Close']\n",
        "returns = price.pct_change()[1:]\n",
        "\n",
        "## Your code goes here.\n",
        "\n",
        "\n",
        "returns.mean()"
      ]
    },
    {
      "cell_type": "markdown",
      "metadata": {
        "id": "ZMWHWEM6CNJH"
      },
      "source": [
        "---"
      ]
    },
    {
      "cell_type": "markdown",
      "metadata": {
        "id": "DHTMiipeCNJH"
      },
      "source": [
        "# Exercise 2 : Median\n",
        "## a. Median of random data set\n",
        "Find the median of the randomly generated data set `l`."
      ]
    },
    {
      "cell_type": "code",
      "execution_count": 7,
      "metadata": {
        "id": "dAbZoBa7CNJH",
        "colab": {
          "base_uri": "https://localhost:8080/"
        },
        "outputId": "17fd5ac5-5000-4f12-98e3-1d3039908228"
      },
      "outputs": [
        {
          "output_type": "execute_result",
          "data": {
            "text/plain": [
              "49.0"
            ]
          },
          "metadata": {},
          "execution_count": 7
        }
      ],
      "source": [
        "## Your code goes here\n",
        "\n",
        "np.median(l)"
      ]
    },
    {
      "cell_type": "markdown",
      "metadata": {
        "id": "za0cauMDCNJH"
      },
      "source": [
        "## b. Median of the returns.\n",
        "Find the median associated with the returns of Bank of America Corp. (BAC)."
      ]
    },
    {
      "cell_type": "code",
      "execution_count": 8,
      "metadata": {
        "id": "12OEDtk-CNJI",
        "colab": {
          "base_uri": "https://localhost:8080/"
        },
        "outputId": "a64225ae-e734-400e-fdd9-dc80990151c5"
      },
      "outputs": [
        {
          "output_type": "stream",
          "name": "stderr",
          "text": [
            "\r[*********************100%%**********************]  1 of 1 completed\n"
          ]
        },
        {
          "output_type": "execute_result",
          "data": {
            "text/plain": [
              "-0.00038186148975644096"
            ]
          },
          "metadata": {},
          "execution_count": 8
        }
      ],
      "source": [
        "start = datetime.datetime(2005,1,1)\n",
        "end = datetime.datetime(2010,1,1)\n",
        "\n",
        "price = yf.download('BAC', start = start, end = end)\n",
        "price = price['Close']\n",
        "returns = price.pct_change()[1:]\n",
        "\n",
        "## Your code goes here\n",
        "\n",
        "returns.median()"
      ]
    },
    {
      "cell_type": "markdown",
      "metadata": {
        "id": "LKd15VbZCNJI"
      },
      "source": [
        "----"
      ]
    },
    {
      "cell_type": "markdown",
      "metadata": {
        "id": "WUCO7SpRCNJI"
      },
      "source": [
        "# Exercise 3 : Mode\n",
        "## a. Mode of a random data set.\n",
        "Find the mode of the random generated data set `l`."
      ]
    },
    {
      "cell_type": "code",
      "execution_count": 10,
      "metadata": {
        "id": "o4BSp-04CNJI",
        "colab": {
          "base_uri": "https://localhost:8080/"
        },
        "outputId": "73a649f0-7c5e-403a-b590-8845249c63d5"
      },
      "outputs": [
        {
          "output_type": "execute_result",
          "data": {
            "text/plain": [
              "[24, 17]"
            ]
          },
          "metadata": {},
          "execution_count": 10
        }
      ],
      "source": [
        "## Your code goes here\n",
        "\n",
        "mode(l)"
      ]
    },
    {
      "cell_type": "code",
      "source": [
        "import matplotlib.pyplot as plt\n",
        "plt.hist(l)"
      ],
      "metadata": {
        "colab": {
          "base_uri": "https://localhost:8080/",
          "height": 482
        },
        "id": "2txaelJXEgKI",
        "outputId": "ef81c003-91aa-413f-8f67-93045192f803"
      },
      "execution_count": 13,
      "outputs": [
        {
          "output_type": "execute_result",
          "data": {
            "text/plain": [
              "(array([10., 18., 11.,  2., 10., 12.,  8., 10.,  9.,  9.]),\n",
              " array([ 1. , 10.8, 20.6, 30.4, 40.2, 50. , 59.8, 69.6, 79.4, 89.2, 99. ]),\n",
              " <BarContainer object of 10 artists>)"
            ]
          },
          "metadata": {},
          "execution_count": 13
        },
        {
          "output_type": "display_data",
          "data": {
            "text/plain": [
              "<Figure size 640x480 with 1 Axes>"
            ],
            "image/png": "[encoded data removed]"
          },
          "metadata": {}
        }
      ]
    },
    {
      "cell_type": "markdown",
      "metadata": {
        "id": "xIyMjMy1CNJJ"
      },
      "source": [
        "## b. Mode of the returns.\n",
        "Find the mode associated with the returns of Goldman Sachs Corp. (GS). *Recall with returns, there may not be any values that appear more than once.*"
      ]
    },
    {
      "cell_type": "code",
      "execution_count": 15,
      "metadata": {
        "id": "R1B4FXgRCNJJ",
        "colab": {
          "base_uri": "https://localhost:8080/"
        },
        "outputId": "637cef1b-e474-40e2-fa17-ee75663e5909"
      },
      "outputs": [
        {
          "output_type": "stream",
          "name": "stderr",
          "text": [
            "\r[*********************100%%**********************]  1 of 1 completed"
          ]
        },
        {
          "output_type": "stream",
          "name": "stdout",
          "text": [
            "Mode of bins: [(-0.007886422320767805, 0.014827298691697327)]\n"
          ]
        },
        {
          "output_type": "stream",
          "name": "stderr",
          "text": [
            "\n"
          ]
        }
      ],
      "source": [
        "start = datetime.datetime(2005,1,1)\n",
        "end = datetime.datetime(2010,1,1)\n",
        "\n",
        "price = yf.download('GS', start = start, end = end)\n",
        "price = price['Close']\n",
        "returns = price.pct_change()[1:]\n",
        "\n",
        "## Your code goes here\n",
        "\n",
        "hist, bins = np.histogram(returns, 20)\n",
        "maxfreq = max(hist)\n",
        "\n",
        "print('Mode of bins:', [(bins[i], bins[i+1]) for i, j in enumerate(hist) if j == maxfreq])"
      ]
    },
    {
      "cell_type": "markdown",
      "metadata": {
        "id": "NVkhGce7CNJK"
      },
      "source": [
        "----"
      ]
    },
    {
      "cell_type": "markdown",
      "metadata": {
        "id": "-m6YUCILCNJK"
      },
      "source": [
        "# Exercise 4 : Geometric mean\n",
        "## a. Geometric Mean of random data set.\n",
        "Find the Geometric mean of the random generated data set."
      ]
    },
    {
      "cell_type": "code",
      "execution_count": 17,
      "metadata": {
        "id": "Vx_14Pj6CNJK",
        "colab": {
          "base_uri": "https://localhost:8080/"
        },
        "outputId": "444642ab-46df-4a22-cb22-2328ad6d9893"
      },
      "outputs": [
        {
          "output_type": "execute_result",
          "data": {
            "text/plain": [
              "32.559401076654254"
            ]
          },
          "metadata": {},
          "execution_count": 17
        }
      ],
      "source": [
        "stats.gmean(l)"
      ]
    },
    {
      "cell_type": "markdown",
      "metadata": {
        "id": "KDVSvUcgCNJL"
      },
      "source": [
        "## b. Geometric Mean of returns.\n",
        "Find the Geometric Mean of the price of Citi bank (C) for the last 5 years."
      ]
    },
    {
      "cell_type": "code",
      "execution_count": 24,
      "metadata": {
        "id": "wz6_iSRLCNJL",
        "colab": {
          "base_uri": "https://localhost:8080/"
        },
        "outputId": "109478b0-f7a8-43e0-dad3-41ac3914b6e3"
      },
      "outputs": [
        {
          "output_type": "stream",
          "name": "stderr",
          "text": [
            "\r[*********************100%%**********************]  1 of 1 completed"
          ]
        },
        {
          "output_type": "stream",
          "name": "stdout",
          "text": [
            "Geometric mean of returns: 0.00037107142398196125\n"
          ]
        },
        {
          "output_type": "stream",
          "name": "stderr",
          "text": [
            "\n"
          ]
        }
      ],
      "source": [
        "start = datetime.datetime(2005,1,1)\n",
        "end = datetime.datetime(2010,1,1)\n",
        "\n",
        "price = yf.download('GS', start = start, end = end)\n",
        "price = price['Open']\n",
        "returns = price.pct_change()[1:]\n",
        "\n",
        "# Add 1 to every value in the returns array and then compute R_G\n",
        "ratios = returns + np.ones(len(returns))\n",
        "R_G = stats.gmean(ratios) - 1\n",
        "print('Geometric mean of returns:', R_G)"
      ]
    },
    {
      "cell_type": "markdown",
      "metadata": {
        "id": "k_dEnATICNJL"
      },
      "source": [
        "---"
      ]
    },
    {
      "cell_type": "markdown",
      "metadata": {
        "id": "3m-F4hN8CNJL"
      },
      "source": [
        "# Exercise 5 : Harmonic mean.\n",
        "## a. Harmonic Mean of random data set.\n",
        "Find the harmonic mean of the randomly generated data set `l`."
      ]
    },
    {
      "cell_type": "code",
      "execution_count": 21,
      "metadata": {
        "id": "UY0PdPFjCNJL",
        "colab": {
          "base_uri": "https://localhost:8080/"
        },
        "outputId": "751bcfd7-266d-430b-c394-4b78de85c0aa"
      },
      "outputs": [
        {
          "output_type": "execute_result",
          "data": {
            "text/plain": [
              "12.957007352669933"
            ]
          },
          "metadata": {},
          "execution_count": 21
        }
      ],
      "source": [
        "## Your code goes here\n",
        "stats.hmean(l)"
      ]
    },
    {
      "cell_type": "markdown",
      "metadata": {
        "id": "jZRn-oVLCNJM"
      },
      "source": [
        "## b. Harmonic Mean of stock returns.\n",
        "Find the Harmonic Mean of the financial ETF (XLF) over the last 2 years."
      ]
    },
    {
      "cell_type": "code",
      "execution_count": 26,
      "metadata": {
        "scrolled": true,
        "id": "NWzRPHfyCNJM"
      },
      "outputs": [],
      "source": [
        "# stats.hmean(returns)"
      ]
    },
    {
      "cell_type": "markdown",
      "metadata": {
        "id": "EMqLIOdJCNJM"
      },
      "source": [
        "----"
      ]
    },
    {
      "cell_type": "markdown",
      "metadata": {
        "id": "_mMSHaL_CNJM"
      },
      "source": [
        "# Exercise 6 : Skewness and why it matters.\n",
        "Skewness in a probability distribution is the measure of asymmetry. Negative skew has fewer low values and a longer left tail, whereas positive skew has fewer high values and a longer right tail.\n",
        "In asset pricing, skewness is an important information, naimly in risk assessment. Knowledge that the market has a 60% chance of going down and a 40% chance of going up apears helpfull but only if we know the market is obeying a normal distrubtuion. If we are told that the market will go up 2% but down 18%, we can see how skewness would give us better information.\n",
        "\n",
        "Determine if the returns of SPY from 2010 to 2017 is positivly or negativly skewed.\n",
        "*Recall a data set is positivly skewed if the mode is smaller than the median, which is smaller than the mean. A data set is negativly skewed in the event of the reverse (i.e: the mean is greater than the median, which is greater than the mode)*"
      ]
    },
    {
      "cell_type": "code",
      "execution_count": 28,
      "metadata": {
        "scrolled": false,
        "id": "2lb90dRDCNJN",
        "colab": {
          "base_uri": "https://localhost:8080/"
        },
        "outputId": "3f856eec-faf6-4627-b89c-d742c630b553"
      },
      "outputs": [
        {
          "output_type": "stream",
          "name": "stderr",
          "text": [
            "\r[*********************100%%**********************]  1 of 1 completed\n"
          ]
        },
        {
          "output_type": "execute_result",
          "data": {
            "text/plain": [
              "(0.05628034677169235, -0.0077766691992790515, -0.7199704726718803)"
            ]
          },
          "metadata": {},
          "execution_count": 28
        }
      ],
      "source": [
        "start = datetime.datetime(2005,1,1)\n",
        "end = datetime.datetime(2010,1,1)\n",
        "\n",
        "price = yf.download('SPY', start = start, end = end)\n",
        "price = price['Volume']\n",
        "returns = price.pct_change()[1:]\n",
        "\n",
        "## Your code goes here\n",
        "\n",
        "mean = np.mean(returns)\n",
        "median = np.median(returns)\n",
        "mode = stats.mode(returns)[0]\n",
        "\n",
        "mean, median, mode"
      ]
    },
    {
      "cell_type": "code",
      "source": [
        "plt.hist(returns)"
      ],
      "metadata": {
        "colab": {
          "base_uri": "https://localhost:8080/",
          "height": 517
        },
        "id": "-GZMaOt2HdtP",
        "outputId": "59f1be61-0fe6-406c-fa6b-b85e169a9417"
      },
      "execution_count": 29,
      "outputs": [
        {
          "output_type": "execute_result",
          "data": {
            "text/plain": [
              "(array([ 99., 568., 414., 120.,  37.,  11.,   4.,   3.,   1.,   1.]),\n",
              " array([-0.71997047, -0.35130426,  0.01736195,  0.38602816,  0.75469436,\n",
              "         1.12336057,  1.49202678,  1.86069299,  2.2293592 ,  2.59802541,\n",
              "         2.96669162]),\n",
              " <BarContainer object of 10 artists>)"
            ]
          },
          "metadata": {},
          "execution_count": 29
        },
        {
          "output_type": "display_data",
          "data": {
            "text/plain": [
              "<Figure size 640x480 with 1 Axes>"
            ],
            "image/png": "[encoded data removed]"
          },
          "metadata": {}
        }
      ]
    },
    {
      "cell_type": "markdown",
      "metadata": {
        "id": "VbSoePMWCNJN"
      },
      "source": [
        "We can clearly see positive skewing from the histogram of the returns. We see fewer higher values and a longer right tail.\n",
        "Plot the histograms of the returns now."
      ]
    },
    {
      "cell_type": "code",
      "execution_count": 32,
      "metadata": {
        "collapsed": true,
        "id": "rfHUN-tbCNJN",
        "colab": {
          "base_uri": "https://localhost:8080/"
        },
        "outputId": "34e96f45-3351-4ae1-f6d1-5c363fbc9a96"
      },
      "outputs": [
        {
          "output_type": "stream",
          "name": "stdout",
          "text": [
            "True\n",
            "True\n"
          ]
        }
      ],
      "source": [
        "## Your code here\n",
        "print(mode < median) # positive skew\n",
        "print(median < mean) # positive skew"
      ]
    },
    {
      "cell_type": "markdown",
      "metadata": {
        "id": "aw9ZMpHQCNJN"
      },
      "source": [
        "---\n",
        "\n",
        "Congratulations on completing the Means exercises!\n",
        "\n",
        "As you learn more about writing trading algorithms and the Quantopian platform, be sure to check out the daily [Quantopian Contest](https://www.quantopian.com/contest), in which you can compete for a cash prize every day.\n",
        "\n",
        "Start by going through the [Writing a Contest Algorithm](https://www.quantopian.com/tutorials/contest) tutorial."
      ]
    },
    {
      "cell_type": "markdown",
      "metadata": {
        "id": "7yDJKTN4CNJN"
      },
      "source": [
        "*This presentation is for informational purposes only and does not constitute an offer to sell, a solicitation to buy, or a recommendation for any security; nor does it constitute an offer to provide investment advisory or other services by Quantopian, Inc. (\"Quantopian\"). Nothing contained herein constitutes investment advice or offers any opinion with respect to the suitability of any security, and any views expressed herein should not be taken as advice to buy, sell, or hold any security or as an endorsement of any security or company.  In preparing the information contained herein, Quantopian, Inc. has not taken into account the investment needs, objectives, and financial circumstances of any particular investor. Any views expressed and data illustrated herein were prepared based upon information, believed to be reliable, available to Quantopian, Inc. at the time of publication. Quantopian makes no guarantees as to their accuracy or completeness. All information is subject to change and may quickly become unreliable for various reasons, including changes in market conditions or economic circumstances.*"
      ]
    }
  ],
  "metadata": {
    "kernelspec": {
      "display_name": "Python 3.5",
      "language": "python",
      "name": "py35"
    },
    "language_info": {
      "codemirror_mode": {
        "name": "ipython",
        "version": 3
      },
      "file_extension": ".py",
      "mimetype": "text/x-python",
      "name": "python",
      "nbconvert_exporter": "python",
      "pygments_lexer": "ipython3",
      "version": "3.5.9"
    },
    "colab": {
      "provenance": []
    }
  },
  "nbformat": 4,
  "nbformat_minor": 0
}